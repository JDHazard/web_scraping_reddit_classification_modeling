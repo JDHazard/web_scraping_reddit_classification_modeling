{
 "cells": [
  {
   "cell_type": "code",
   "execution_count": 1,
   "metadata": {},
   "outputs": [],
   "source": [
    "import pandas as pd\n",
    "import numpy as np\n",
    "import datetime as dt\n",
    "import time\n",
    "import requests\n",
    "import json"
   ]
  },
  {
   "cell_type": "code",
   "execution_count": 2,
   "metadata": {},
   "outputs": [
    {
     "data": {
      "text/plain": [
       "'https://api.pushshift.io/reddit/search/submission/?subreddit=OSHA&size=500'"
      ]
     },
     "execution_count": 2,
     "metadata": {},
     "output_type": "execute_result"
    }
   ],
   "source": [
    "kind = 'submission'\n",
    "subreddit = 'OSHA'\n",
    "size = 500\n",
    "f'https://api.pushshift.io/reddit/search/{kind}/?subreddit={subreddit}&size={size}'"
   ]
  },
  {
   "cell_type": "code",
   "execution_count": 3,
   "metadata": {},
   "outputs": [],
   "source": [
    "field = ['selftext', 'author', 'title', 'created_utc', 'cum_comments', 'is_self', 'subreddit']"
   ]
  },
  {
   "cell_type": "code",
   "execution_count": 4,
   "metadata": {},
   "outputs": [],
   "source": [
    "# Brian Collins' webscraping function \n",
    "def query_pushshift(subreddit, # subreddit name\n",
    "                    kind='submission', # can be either a submission or a comment\n",
    "                    skip=30, # number of periods iterated\n",
    "                    times=6, # number of days in time period\n",
    "                    subfield = ['selftext', 'author', 'title', 'created_utc', 'num_comments', 'is_self', 'subreddit'],\n",
    "                    # fields under submission \n",
    "                   comfield = ['body', 'created_utc']): # fields for comments\n",
    "    stem = f'https://api.pushshift.io/reddit/search/{kind}/?subreddit={subreddit}&size={size}' # base url \n",
    "    \n",
    "    my_list = [] # instantiates an empty list \n",
    "    \n",
    "    for x in range(1, times): # iterates through times\n",
    "        URL = f'{stem}&after={skip * x}d' # new url for each time period \n",
    "        print(URL) # prints new url\n",
    "        response = requests.get(URL) # activates scrape \n",
    "        assert response.status_code == 200 # continues if code is 200 for all clear\n",
    "        mine = response.json()['data'] # get the text data from the scrape\n",
    "        df = pd.DataFrame.from_dict(mine) # takes data from scrape and puts it into a dataframe\n",
    "        my_list.append(df) # adds to my_list\n",
    "        time.sleep(2) # setting a time inbetween each scrape as to not overwhelm api and servers\n",
    "        \n",
    "    full = pd.concat(my_list, sort=False) # combines all the dataframes from each scrape into one df\n",
    "    \n",
    "    if kind == 'submission': # for submissions drops the duplicates not including itself\n",
    "        full = full[subfield]\n",
    "        full = full.drop_duplicates()\n",
    "        full = full.loc[full['is_self'] == True]\n",
    "        \n",
    "    def get_date(created): # getting date from datetime and returning created_utc\n",
    "        return dt.date.fromtimestamp(created)\n",
    "    \n",
    "    _timestamp = full ['created_utc'].apply(get_date) # changing created_utc to date\n",
    "    \n",
    "    full['timestamp'] = _timestamp # setting new timestamp as field in dataframe\n",
    "    \n",
    "    print(full.shape) # prints shape of the final dataframe\n",
    "    \n",
    "    return full # saves the dataframe "
   ]
  },
  {
   "cell_type": "code",
   "execution_count": 5,
   "metadata": {},
   "outputs": [
    {
     "name": "stdout",
     "output_type": "stream",
     "text": [
      "https://api.pushshift.io/reddit/search/submission/?subreddit=twilightzone&size=500&after=30d\n",
      "https://api.pushshift.io/reddit/search/submission/?subreddit=twilightzone&size=500&after=60d\n",
      "https://api.pushshift.io/reddit/search/submission/?subreddit=twilightzone&size=500&after=90d\n",
      "https://api.pushshift.io/reddit/search/submission/?subreddit=twilightzone&size=500&after=120d\n",
      "https://api.pushshift.io/reddit/search/submission/?subreddit=twilightzone&size=500&after=150d\n",
      "(422, 8)\n"
     ]
    }
   ],
   "source": [
    "twilight_zone = query_pushshift('twilightzone') # queries and saves scraped text data into dataframe "
   ]
  },
  {
   "cell_type": "code",
   "execution_count": 6,
   "metadata": {},
   "outputs": [
    {
     "name": "stdout",
     "output_type": "stream",
     "text": [
      "https://api.pushshift.io/reddit/search/submission/?subreddit=comicbooks&size=500&after=30d\n",
      "https://api.pushshift.io/reddit/search/submission/?subreddit=comicbooks&size=500&after=60d\n",
      "https://api.pushshift.io/reddit/search/submission/?subreddit=comicbooks&size=500&after=90d\n",
      "https://api.pushshift.io/reddit/search/submission/?subreddit=comicbooks&size=500&after=120d\n",
      "https://api.pushshift.io/reddit/search/submission/?subreddit=comicbooks&size=500&after=150d\n",
      "(888, 8)\n"
     ]
    }
   ],
   "source": [
    "comicbooks = query_pushshift('comicbooks') # queries and saves scraped text data into dataframe "
   ]
  },
  {
   "cell_type": "code",
   "execution_count": 7,
   "metadata": {},
   "outputs": [],
   "source": [
    "twilight_zone.to_csv('./twilight_zone_raw') # saving submissions to csv"
   ]
  },
  {
   "cell_type": "code",
   "execution_count": 8,
   "metadata": {},
   "outputs": [],
   "source": [
    "comicbooks.to_csv('./comicbooks_raw') # saving submissions to csv"
   ]
  }
 ],
 "metadata": {
  "kernelspec": {
   "display_name": "Python 3",
   "language": "python",
   "name": "python3"
  },
  "language_info": {
   "codemirror_mode": {
    "name": "ipython",
    "version": 3
   },
   "file_extension": ".py",
   "mimetype": "text/x-python",
   "name": "python",
   "nbconvert_exporter": "python",
   "pygments_lexer": "ipython3",
   "version": "3.6.4"
  },
  "toc": {
   "base_numbering": 1,
   "nav_menu": {},
   "number_sections": true,
   "sideBar": true,
   "skip_h1_title": false,
   "title_cell": "Table of Contents",
   "title_sidebar": "Contents",
   "toc_cell": false,
   "toc_position": {
    "height": "calc(100% - 180px)",
    "left": "10px",
    "top": "150px",
    "width": "288px"
   },
   "toc_section_display": true,
   "toc_window_display": false
  },
  "varInspector": {
   "cols": {
    "lenName": 16,
    "lenType": 16,
    "lenVar": 40
   },
   "kernels_config": {
    "python": {
     "delete_cmd_postfix": "",
     "delete_cmd_prefix": "del ",
     "library": "var_list.py",
     "varRefreshCmd": "print(var_dic_list())"
    },
    "r": {
     "delete_cmd_postfix": ") ",
     "delete_cmd_prefix": "rm(",
     "library": "var_list.r",
     "varRefreshCmd": "cat(var_dic_list()) "
    }
   },
   "types_to_exclude": [
    "module",
    "function",
    "builtin_function_or_method",
    "instance",
    "_Feature"
   ],
   "window_display": false
  }
 },
 "nbformat": 4,
 "nbformat_minor": 2
}
