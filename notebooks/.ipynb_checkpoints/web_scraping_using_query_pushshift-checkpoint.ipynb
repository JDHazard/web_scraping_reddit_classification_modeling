{
 "cells": [
  {
   "cell_type": "code",
   "execution_count": 1,
   "metadata": {},
   "outputs": [],
   "source": [
    "import pandas as pd\n",
    "import numpy as np\n",
    "import datetime as dt\n",
    "import time\n",
    "import requests\n",
    "import json"
   ]
  },
  {
   "cell_type": "code",
   "execution_count": 2,
   "metadata": {},
   "outputs": [
    {
     "data": {
      "text/plain": [
       "'https://api.pushshift.io/reddit/search/submission/?subreddit=OSHA&size=1000'"
      ]
     },
     "execution_count": 2,
     "metadata": {},
     "output_type": "execute_result"
    }
   ],
   "source": [
    "kind = 'submission'\n",
    "subreddit = 'OSHA'\n",
    "size = 1000\n",
    "f'https://api.pushshift.io/reddit/search/{kind}/?subreddit={subreddit}&size={size}'"
   ]
  },
  {
   "cell_type": "code",
   "execution_count": 3,
   "metadata": {},
   "outputs": [],
   "source": [
    "field = ['selftext', 'author', 'title', 'created_utc', 'cum_comments', 'is_self', 'subreddit']"
   ]
  },
  {
   "cell_type": "code",
   "execution_count": 4,
   "metadata": {},
   "outputs": [],
   "source": [
    "# Modified from Brian Collins' web-scraper given to the class \n",
    "def query_pushshift(subreddit, # subreddit name\n",
    "                    kind='submission', # can be either a submission or a comment\n",
    "                    skip=8, # number of days in time period\n",
    "                    times=100, # number of periods iterated\n",
    "                    subfield = ['selftext', 'author', 'title', 'created_utc', 'num_comments', 'is_self', 'subreddit'],\n",
    "                    # fields under submission \n",
    "                   comfield = ['body', 'created_utc']): # fields for comments\n",
    "    stem = f'https://api.pushshift.io/reddit/search/{kind}/?subreddit={subreddit}&size={size}' # base url \n",
    "    \n",
    "    my_list = [] # instantiates an empty list \n",
    "    \n",
    "    for x in range(1, times): # iterates through times\n",
    "        URL = f'{stem}&after={skip * x}d' # new url for each time period \n",
    "        print(URL) # prints new url\n",
    "        response = requests.get(URL) # activates scrape \n",
    "        assert response.status_code == 200 # continues if code is 200 for all clear\n",
    "        mine = response.json()['data'] # get the text data from the scrape\n",
    "        df = pd.DataFrame.from_dict(mine) # takes data from scrape and puts it into a dataframe\n",
    "        my_list.append(df) # adds to my_list\n",
    "        time.sleep(2) # setting a time inbetween each scrape as to not overwhelm api and servers\n",
    "        \n",
    "    full = pd.concat(my_list, sort=False) # combines all the dataframes from each scrape into one df\n",
    "    \n",
    "    if kind == 'submission': # for submissions drops the duplicates not including itself\n",
    "        full = full[subfield]\n",
    "        full = full.drop_duplicates()\n",
    "        full = full.loc[full['is_self'] == True]\n",
    "        \n",
    "    def get_date(created): # getting date from datetime and returning created_utc\n",
    "        return dt.date.fromtimestamp(created)\n",
    "    \n",
    "    _timestamp = full ['created_utc'].apply(get_date) # changing created_utc to date\n",
    "    \n",
    "    full['timestamp'] = _timestamp # setting new timestamp as field in dataframe\n",
    "    \n",
    "    print(full.shape) # prints shape of the final dataframe\n",
    "    \n",
    "    return full # saves the dataframe "
   ]
  },
  {
   "cell_type": "markdown",
   "metadata": {},
   "source": [
    "### In an attempt to balance our classes we used two different parameters for each scrape. It should be noted that the classes could have been balanced after the fact using SMOTE or similar methods. We chose to keep the data as close to the original as possible, hence the parameter difference. "
   ]
  },
  {
   "cell_type": "code",
   "execution_count": 5,
   "metadata": {},
   "outputs": [
    {
     "name": "stdout",
     "output_type": "stream",
     "text": [
      "https://api.pushshift.io/reddit/search/submission/?subreddit=twilightzone&size=1000&after=8d\n",
      "https://api.pushshift.io/reddit/search/submission/?subreddit=twilightzone&size=1000&after=16d\n",
      "https://api.pushshift.io/reddit/search/submission/?subreddit=twilightzone&size=1000&after=24d\n",
      "https://api.pushshift.io/reddit/search/submission/?subreddit=twilightzone&size=1000&after=32d\n",
      "https://api.pushshift.io/reddit/search/submission/?subreddit=twilightzone&size=1000&after=40d\n",
      "https://api.pushshift.io/reddit/search/submission/?subreddit=twilightzone&size=1000&after=48d\n",
      "https://api.pushshift.io/reddit/search/submission/?subreddit=twilightzone&size=1000&after=56d\n",
      "https://api.pushshift.io/reddit/search/submission/?subreddit=twilightzone&size=1000&after=64d\n",
      "https://api.pushshift.io/reddit/search/submission/?subreddit=twilightzone&size=1000&after=72d\n",
      "https://api.pushshift.io/reddit/search/submission/?subreddit=twilightzone&size=1000&after=80d\n",
      "https://api.pushshift.io/reddit/search/submission/?subreddit=twilightzone&size=1000&after=88d\n",
      "https://api.pushshift.io/reddit/search/submission/?subreddit=twilightzone&size=1000&after=96d\n",
      "https://api.pushshift.io/reddit/search/submission/?subreddit=twilightzone&size=1000&after=104d\n",
      "https://api.pushshift.io/reddit/search/submission/?subreddit=twilightzone&size=1000&after=112d\n",
      "https://api.pushshift.io/reddit/search/submission/?subreddit=twilightzone&size=1000&after=120d\n",
      "https://api.pushshift.io/reddit/search/submission/?subreddit=twilightzone&size=1000&after=128d\n",
      "https://api.pushshift.io/reddit/search/submission/?subreddit=twilightzone&size=1000&after=136d\n",
      "https://api.pushshift.io/reddit/search/submission/?subreddit=twilightzone&size=1000&after=144d\n",
      "https://api.pushshift.io/reddit/search/submission/?subreddit=twilightzone&size=1000&after=152d\n",
      "https://api.pushshift.io/reddit/search/submission/?subreddit=twilightzone&size=1000&after=160d\n",
      "https://api.pushshift.io/reddit/search/submission/?subreddit=twilightzone&size=1000&after=168d\n",
      "https://api.pushshift.io/reddit/search/submission/?subreddit=twilightzone&size=1000&after=176d\n",
      "https://api.pushshift.io/reddit/search/submission/?subreddit=twilightzone&size=1000&after=184d\n",
      "https://api.pushshift.io/reddit/search/submission/?subreddit=twilightzone&size=1000&after=192d\n",
      "https://api.pushshift.io/reddit/search/submission/?subreddit=twilightzone&size=1000&after=200d\n",
      "https://api.pushshift.io/reddit/search/submission/?subreddit=twilightzone&size=1000&after=208d\n",
      "https://api.pushshift.io/reddit/search/submission/?subreddit=twilightzone&size=1000&after=216d\n",
      "https://api.pushshift.io/reddit/search/submission/?subreddit=twilightzone&size=1000&after=224d\n",
      "https://api.pushshift.io/reddit/search/submission/?subreddit=twilightzone&size=1000&after=232d\n",
      "https://api.pushshift.io/reddit/search/submission/?subreddit=twilightzone&size=1000&after=240d\n",
      "https://api.pushshift.io/reddit/search/submission/?subreddit=twilightzone&size=1000&after=248d\n",
      "https://api.pushshift.io/reddit/search/submission/?subreddit=twilightzone&size=1000&after=256d\n",
      "https://api.pushshift.io/reddit/search/submission/?subreddit=twilightzone&size=1000&after=264d\n",
      "https://api.pushshift.io/reddit/search/submission/?subreddit=twilightzone&size=1000&after=272d\n",
      "https://api.pushshift.io/reddit/search/submission/?subreddit=twilightzone&size=1000&after=280d\n",
      "https://api.pushshift.io/reddit/search/submission/?subreddit=twilightzone&size=1000&after=288d\n",
      "https://api.pushshift.io/reddit/search/submission/?subreddit=twilightzone&size=1000&after=296d\n",
      "https://api.pushshift.io/reddit/search/submission/?subreddit=twilightzone&size=1000&after=304d\n",
      "https://api.pushshift.io/reddit/search/submission/?subreddit=twilightzone&size=1000&after=312d\n",
      "https://api.pushshift.io/reddit/search/submission/?subreddit=twilightzone&size=1000&after=320d\n",
      "https://api.pushshift.io/reddit/search/submission/?subreddit=twilightzone&size=1000&after=328d\n",
      "https://api.pushshift.io/reddit/search/submission/?subreddit=twilightzone&size=1000&after=336d\n",
      "https://api.pushshift.io/reddit/search/submission/?subreddit=twilightzone&size=1000&after=344d\n",
      "https://api.pushshift.io/reddit/search/submission/?subreddit=twilightzone&size=1000&after=352d\n",
      "https://api.pushshift.io/reddit/search/submission/?subreddit=twilightzone&size=1000&after=360d\n",
      "https://api.pushshift.io/reddit/search/submission/?subreddit=twilightzone&size=1000&after=368d\n",
      "https://api.pushshift.io/reddit/search/submission/?subreddit=twilightzone&size=1000&after=376d\n",
      "https://api.pushshift.io/reddit/search/submission/?subreddit=twilightzone&size=1000&after=384d\n",
      "https://api.pushshift.io/reddit/search/submission/?subreddit=twilightzone&size=1000&after=392d\n",
      "https://api.pushshift.io/reddit/search/submission/?subreddit=twilightzone&size=1000&after=400d\n",
      "https://api.pushshift.io/reddit/search/submission/?subreddit=twilightzone&size=1000&after=408d\n",
      "https://api.pushshift.io/reddit/search/submission/?subreddit=twilightzone&size=1000&after=416d\n",
      "https://api.pushshift.io/reddit/search/submission/?subreddit=twilightzone&size=1000&after=424d\n",
      "https://api.pushshift.io/reddit/search/submission/?subreddit=twilightzone&size=1000&after=432d\n",
      "https://api.pushshift.io/reddit/search/submission/?subreddit=twilightzone&size=1000&after=440d\n",
      "https://api.pushshift.io/reddit/search/submission/?subreddit=twilightzone&size=1000&after=448d\n",
      "https://api.pushshift.io/reddit/search/submission/?subreddit=twilightzone&size=1000&after=456d\n",
      "https://api.pushshift.io/reddit/search/submission/?subreddit=twilightzone&size=1000&after=464d\n",
      "https://api.pushshift.io/reddit/search/submission/?subreddit=twilightzone&size=1000&after=472d\n",
      "https://api.pushshift.io/reddit/search/submission/?subreddit=twilightzone&size=1000&after=480d\n",
      "https://api.pushshift.io/reddit/search/submission/?subreddit=twilightzone&size=1000&after=488d\n",
      "https://api.pushshift.io/reddit/search/submission/?subreddit=twilightzone&size=1000&after=496d\n",
      "https://api.pushshift.io/reddit/search/submission/?subreddit=twilightzone&size=1000&after=504d\n",
      "https://api.pushshift.io/reddit/search/submission/?subreddit=twilightzone&size=1000&after=512d\n",
      "https://api.pushshift.io/reddit/search/submission/?subreddit=twilightzone&size=1000&after=520d\n",
      "https://api.pushshift.io/reddit/search/submission/?subreddit=twilightzone&size=1000&after=528d\n",
      "https://api.pushshift.io/reddit/search/submission/?subreddit=twilightzone&size=1000&after=536d\n",
      "https://api.pushshift.io/reddit/search/submission/?subreddit=twilightzone&size=1000&after=544d\n",
      "https://api.pushshift.io/reddit/search/submission/?subreddit=twilightzone&size=1000&after=552d\n",
      "https://api.pushshift.io/reddit/search/submission/?subreddit=twilightzone&size=1000&after=560d\n",
      "https://api.pushshift.io/reddit/search/submission/?subreddit=twilightzone&size=1000&after=568d\n",
      "https://api.pushshift.io/reddit/search/submission/?subreddit=twilightzone&size=1000&after=576d\n",
      "https://api.pushshift.io/reddit/search/submission/?subreddit=twilightzone&size=1000&after=584d\n",
      "https://api.pushshift.io/reddit/search/submission/?subreddit=twilightzone&size=1000&after=592d\n",
      "https://api.pushshift.io/reddit/search/submission/?subreddit=twilightzone&size=1000&after=600d\n",
      "https://api.pushshift.io/reddit/search/submission/?subreddit=twilightzone&size=1000&after=608d\n",
      "https://api.pushshift.io/reddit/search/submission/?subreddit=twilightzone&size=1000&after=616d\n",
      "https://api.pushshift.io/reddit/search/submission/?subreddit=twilightzone&size=1000&after=624d\n",
      "https://api.pushshift.io/reddit/search/submission/?subreddit=twilightzone&size=1000&after=632d\n",
      "https://api.pushshift.io/reddit/search/submission/?subreddit=twilightzone&size=1000&after=640d\n",
      "https://api.pushshift.io/reddit/search/submission/?subreddit=twilightzone&size=1000&after=648d\n",
      "https://api.pushshift.io/reddit/search/submission/?subreddit=twilightzone&size=1000&after=656d\n",
      "https://api.pushshift.io/reddit/search/submission/?subreddit=twilightzone&size=1000&after=664d\n",
      "https://api.pushshift.io/reddit/search/submission/?subreddit=twilightzone&size=1000&after=672d\n",
      "https://api.pushshift.io/reddit/search/submission/?subreddit=twilightzone&size=1000&after=680d\n",
      "https://api.pushshift.io/reddit/search/submission/?subreddit=twilightzone&size=1000&after=688d\n",
      "https://api.pushshift.io/reddit/search/submission/?subreddit=twilightzone&size=1000&after=696d\n"
     ]
    },
    {
     "name": "stdout",
     "output_type": "stream",
     "text": [
      "https://api.pushshift.io/reddit/search/submission/?subreddit=twilightzone&size=1000&after=704d\n",
      "https://api.pushshift.io/reddit/search/submission/?subreddit=twilightzone&size=1000&after=712d\n",
      "https://api.pushshift.io/reddit/search/submission/?subreddit=twilightzone&size=1000&after=720d\n",
      "https://api.pushshift.io/reddit/search/submission/?subreddit=twilightzone&size=1000&after=728d\n",
      "https://api.pushshift.io/reddit/search/submission/?subreddit=twilightzone&size=1000&after=736d\n",
      "https://api.pushshift.io/reddit/search/submission/?subreddit=twilightzone&size=1000&after=744d\n",
      "https://api.pushshift.io/reddit/search/submission/?subreddit=twilightzone&size=1000&after=752d\n",
      "https://api.pushshift.io/reddit/search/submission/?subreddit=twilightzone&size=1000&after=760d\n",
      "https://api.pushshift.io/reddit/search/submission/?subreddit=twilightzone&size=1000&after=768d\n",
      "https://api.pushshift.io/reddit/search/submission/?subreddit=twilightzone&size=1000&after=776d\n",
      "https://api.pushshift.io/reddit/search/submission/?subreddit=twilightzone&size=1000&after=784d\n",
      "https://api.pushshift.io/reddit/search/submission/?subreddit=twilightzone&size=1000&after=792d\n",
      "(1235, 8)\n"
     ]
    }
   ],
   "source": [
    "# Number of days and time periods (10d and 100 periods)\n",
    "\n",
    "twilight_zone = query_pushshift('twilightzone') # queries and saves scraped text data into dataframe "
   ]
  },
  {
   "cell_type": "code",
   "execution_count": 6,
   "metadata": {},
   "outputs": [],
   "source": [
    "# Modified from Brian Collins' web-scraper given to the class \n",
    "def query_pushshift(subreddit, # subreddit name\n",
    "                    kind='submission', # can be either a submission or a comment\n",
    "                    skip=6, # number of days in time period\n",
    "                    times=10, # number of periods iterated\n",
    "                    subfield = ['selftext', 'author', 'title', 'created_utc', 'num_comments', 'is_self', 'subreddit'],\n",
    "                    # fields under submission \n",
    "                   comfield = ['body', 'created_utc']): # fields for comments\n",
    "    stem = f'https://api.pushshift.io/reddit/search/{kind}/?subreddit={subreddit}&size={size}' # base url \n",
    "    \n",
    "    my_list = [] # instantiates an empty list \n",
    "    \n",
    "    for x in range(1, times): # iterates through times\n",
    "        URL = f'{stem}&after={skip * x}d' # new url for each time period \n",
    "        print(URL) # prints new url\n",
    "        response = requests.get(URL) # activates scrape \n",
    "        assert response.status_code == 200 # continues if code is 200 for all clear\n",
    "        mine = response.json()['data'] # get the text data from the scrape\n",
    "        df = pd.DataFrame.from_dict(mine) # takes data from scrape and puts it into a dataframe\n",
    "        my_list.append(df) # adds to my_list\n",
    "        time.sleep(2) # setting a time inbetween each scrape as to not overwhelm api and servers\n",
    "        \n",
    "    full = pd.concat(my_list, sort=False) # combines all the dataframes from each scrape into one df\n",
    "    \n",
    "    if kind == 'submission': # for submissions drops the duplicates not including itself\n",
    "        full = full[subfield]\n",
    "        full = full.drop_duplicates()\n",
    "        full = full.loc[full['is_self'] == True]\n",
    "        \n",
    "    def get_date(created): # getting date from datetime and returning created_utc\n",
    "        return dt.date.fromtimestamp(created)\n",
    "    \n",
    "    _timestamp = full ['created_utc'].apply(get_date) # changing created_utc to date\n",
    "    \n",
    "    full['timestamp'] = _timestamp # setting new timestamp as field in dataframe\n",
    "    \n",
    "    print(full.shape) # prints shape of the final dataframe\n",
    "    \n",
    "    return full # saves the dataframe "
   ]
  },
  {
   "cell_type": "code",
   "execution_count": 7,
   "metadata": {},
   "outputs": [
    {
     "name": "stdout",
     "output_type": "stream",
     "text": [
      "https://api.pushshift.io/reddit/search/submission/?subreddit=comicbooks&size=1000&after=6d\n",
      "https://api.pushshift.io/reddit/search/submission/?subreddit=comicbooks&size=1000&after=12d\n",
      "https://api.pushshift.io/reddit/search/submission/?subreddit=comicbooks&size=1000&after=18d\n",
      "https://api.pushshift.io/reddit/search/submission/?subreddit=comicbooks&size=1000&after=24d\n",
      "https://api.pushshift.io/reddit/search/submission/?subreddit=comicbooks&size=1000&after=30d\n",
      "https://api.pushshift.io/reddit/search/submission/?subreddit=comicbooks&size=1000&after=36d\n",
      "https://api.pushshift.io/reddit/search/submission/?subreddit=comicbooks&size=1000&after=42d\n",
      "https://api.pushshift.io/reddit/search/submission/?subreddit=comicbooks&size=1000&after=48d\n",
      "https://api.pushshift.io/reddit/search/submission/?subreddit=comicbooks&size=1000&after=54d\n",
      "(1797, 8)\n"
     ]
    }
   ],
   "source": [
    "# Number of days and time periods (6d and 10 periods) \n",
    "\n",
    "comicbooks = query_pushshift('comicbooks') # queries and saves scraped text data into dataframe "
   ]
  },
  {
   "cell_type": "code",
   "execution_count": 8,
   "metadata": {},
   "outputs": [],
   "source": [
    "twilight_zone.to_csv('./twilight_zone_raw') # saving submissions to csv"
   ]
  },
  {
   "cell_type": "code",
   "execution_count": 9,
   "metadata": {},
   "outputs": [],
   "source": [
    "comicbooks.to_csv('./comicbooks_raw') # saving submissions to csv"
   ]
  }
 ],
 "metadata": {
  "kernelspec": {
   "display_name": "Python 3",
   "language": "python",
   "name": "python3"
  },
  "language_info": {
   "codemirror_mode": {
    "name": "ipython",
    "version": 3
   },
   "file_extension": ".py",
   "mimetype": "text/x-python",
   "name": "python",
   "nbconvert_exporter": "python",
   "pygments_lexer": "ipython3",
   "version": "3.7.4"
  },
  "toc": {
   "base_numbering": 1,
   "nav_menu": {},
   "number_sections": true,
   "sideBar": true,
   "skip_h1_title": false,
   "title_cell": "Table of Contents",
   "title_sidebar": "Contents",
   "toc_cell": false,
   "toc_position": {
    "height": "calc(100% - 180px)",
    "left": "10px",
    "top": "150px",
    "width": "288px"
   },
   "toc_section_display": true,
   "toc_window_display": false
  },
  "varInspector": {
   "cols": {
    "lenName": 16,
    "lenType": 16,
    "lenVar": 40
   },
   "kernels_config": {
    "python": {
     "delete_cmd_postfix": "",
     "delete_cmd_prefix": "del ",
     "library": "var_list.py",
     "varRefreshCmd": "print(var_dic_list())"
    },
    "r": {
     "delete_cmd_postfix": ") ",
     "delete_cmd_prefix": "rm(",
     "library": "var_list.r",
     "varRefreshCmd": "cat(var_dic_list()) "
    }
   },
   "types_to_exclude": [
    "module",
    "function",
    "builtin_function_or_method",
    "instance",
    "_Feature"
   ],
   "window_display": false
  }
 },
 "nbformat": 4,
 "nbformat_minor": 2
}
