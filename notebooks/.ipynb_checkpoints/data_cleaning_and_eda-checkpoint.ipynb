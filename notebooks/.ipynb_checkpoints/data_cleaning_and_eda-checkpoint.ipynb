{
 "cells": [
  {
   "cell_type": "code",
   "execution_count": 1,
   "metadata": {},
   "outputs": [],
   "source": [
    "# Import Libraries\n",
    "import pandas as pd\n",
    "import regex as re\n",
    "import nltk\n",
    "from nltk.stem import WordNetLemmatizer\n",
    "from nltk.tokenize import RegexpTokenizer\n",
    "\n",
    "pd.set_option('display.max_colwidth', -1)\n",
    "pd.options.display.max_columns = 999"
   ]
  },
  {
   "cell_type": "code",
   "execution_count": 2,
   "metadata": {},
   "outputs": [],
   "source": [
    "# Read in two volumes \n",
    "zone = pd.read_csv('../data/raw_data/twilight_zone_raw')\n",
    "comics = pd.read_csv('../data/raw_data/comicbooks_raw')"
   ]
  },
  {
   "cell_type": "code",
   "execution_count": 3,
   "metadata": {},
   "outputs": [],
   "source": [
    "# Going to drop the 'Unnamed' column for each dataset and use the pandas index\n",
    "zone.drop(columns='Unnamed: 0', inplace=True)\n",
    "comics.drop(columns='Unnamed: 0', inplace=True)"
   ]
  },
  {
   "cell_type": "code",
   "execution_count": 4,
   "metadata": {},
   "outputs": [
    {
     "data": {
      "text/plain": [
       "(422, 8)"
      ]
     },
     "execution_count": 4,
     "metadata": {},
     "output_type": "execute_result"
    }
   ],
   "source": [
    "zone.shape"
   ]
  },
  {
   "cell_type": "code",
   "execution_count": 5,
   "metadata": {},
   "outputs": [
    {
     "data": {
      "text/plain": [
       "(888, 8)"
      ]
     },
     "execution_count": 5,
     "metadata": {},
     "output_type": "execute_result"
    }
   ],
   "source": [
    "comics.shape"
   ]
  },
  {
   "cell_type": "code",
   "execution_count": 6,
   "metadata": {},
   "outputs": [
    {
     "name": "stdout",
     "output_type": "stream",
     "text": [
      "<class 'pandas.core.frame.DataFrame'>\n",
      "RangeIndex: 422 entries, 0 to 421\n",
      "Data columns (total 8 columns):\n",
      "selftext        368 non-null object\n",
      "author          422 non-null object\n",
      "title           422 non-null object\n",
      "created_utc     422 non-null int64\n",
      "num_comments    422 non-null int64\n",
      "is_self         422 non-null bool\n",
      "subreddit       422 non-null object\n",
      "timestamp       422 non-null object\n",
      "dtypes: bool(1), int64(2), object(5)\n",
      "memory usage: 23.6+ KB\n"
     ]
    }
   ],
   "source": [
    "# How many of these columns are useful to modeling? \n",
    "zone.info()"
   ]
  },
  {
   "cell_type": "code",
   "execution_count": 7,
   "metadata": {},
   "outputs": [
    {
     "data": {
      "text/plain": [
       "True    422\n",
       "Name: is_self, dtype: int64"
      ]
     },
     "execution_count": 7,
     "metadata": {},
     "output_type": "execute_result"
    }
   ],
   "source": [
    "# Returns 'True' for every column therefore not going to be a helpful classifier\n",
    "zone['is_self'].value_counts()"
   ]
  },
  {
   "cell_type": "code",
   "execution_count": 8,
   "metadata": {},
   "outputs": [
    {
     "data": {
      "text/plain": [
       "True    888\n",
       "Name: is_self, dtype: int64"
      ]
     },
     "execution_count": 8,
     "metadata": {},
     "output_type": "execute_result"
    }
   ],
   "source": [
    "# Returns 'True' for every column therefore not going to be a helpful classifier\n",
    "comics['is_self'].value_counts()"
   ]
  },
  {
   "cell_type": "code",
   "execution_count": 9,
   "metadata": {},
   "outputs": [],
   "source": [
    "# Dropping the 'is_self' columns from each dataset\n",
    "zone.drop(columns='is_self', inplace=True)\n",
    "comics.drop(columns='is_self', inplace=True)"
   ]
  },
  {
   "cell_type": "code",
   "execution_count": 10,
   "metadata": {},
   "outputs": [],
   "source": [
    "# Dropping the 'created_utc' column from both datasets\n",
    "zone.drop(columns='created_utc', inplace=True)\n",
    "comics.drop(columns='created_utc', inplace=True)"
   ]
  },
  {
   "cell_type": "code",
   "execution_count": 11,
   "metadata": {},
   "outputs": [],
   "source": [
    "# Need to convert dtypes to strings in appropriate columns \n",
    "for col in ['selftext', 'author', 'title', 'subreddit']:\n",
    "    zone[col] = zone[col].astype(str)"
   ]
  },
  {
   "cell_type": "code",
   "execution_count": 12,
   "metadata": {},
   "outputs": [],
   "source": [
    "for col in ['selftext', 'author', 'title', 'subreddit']:\n",
    "    comics[col] = comics[col].astype(str)"
   ]
  },
  {
   "cell_type": "code",
   "execution_count": 13,
   "metadata": {},
   "outputs": [],
   "source": [
    "# Removing all columns that are not text-based\n",
    "zone.drop(['num_comments','timestamp'], axis=1, inplace=True)"
   ]
  },
  {
   "cell_type": "code",
   "execution_count": 14,
   "metadata": {},
   "outputs": [],
   "source": [
    "comics.drop(['num_comments','timestamp'], axis=1, inplace=True)"
   ]
  },
  {
   "cell_type": "code",
   "execution_count": 15,
   "metadata": {},
   "outputs": [
    {
     "data": {
      "text/plain": [
       "selftext     0\n",
       "author       0\n",
       "title        0\n",
       "subreddit    0\n",
       "dtype: int64"
      ]
     },
     "execution_count": 15,
     "metadata": {},
     "output_type": "execute_result"
    }
   ],
   "source": [
    "# Checking for null values in each dataframe \n",
    "comics.isna().sum()"
   ]
  },
  {
   "cell_type": "code",
   "execution_count": 16,
   "metadata": {},
   "outputs": [
    {
     "data": {
      "text/plain": [
       "selftext     0\n",
       "author       0\n",
       "title        0\n",
       "subreddit    0\n",
       "dtype: int64"
      ]
     },
     "execution_count": 16,
     "metadata": {},
     "output_type": "execute_result"
    }
   ],
   "source": [
    "zone.isna().sum()"
   ]
  },
  {
   "cell_type": "code",
   "execution_count": 17,
   "metadata": {},
   "outputs": [
    {
     "data": {
      "text/html": [
       "<div>\n",
       "<style scoped>\n",
       "    .dataframe tbody tr th:only-of-type {\n",
       "        vertical-align: middle;\n",
       "    }\n",
       "\n",
       "    .dataframe tbody tr th {\n",
       "        vertical-align: top;\n",
       "    }\n",
       "\n",
       "    .dataframe thead th {\n",
       "        text-align: right;\n",
       "    }\n",
       "</style>\n",
       "<table border=\"1\" class=\"dataframe\">\n",
       "  <thead>\n",
       "    <tr style=\"text-align: right;\">\n",
       "      <th></th>\n",
       "      <th>selftext</th>\n",
       "      <th>author</th>\n",
       "      <th>title</th>\n",
       "      <th>subreddit</th>\n",
       "    </tr>\n",
       "  </thead>\n",
       "  <tbody>\n",
       "    <tr>\n",
       "      <th>0</th>\n",
       "      <td>I came across a video on YouTube of Batman talking about his plans that he has to stop members of the Justice League if they ever turned against the team.\\n\\nLink to the video: https://youtu.be/ZJVvrmLSTsg\\n\\nI noticed that there were some that he didn't have a full plan for, so I wanted to continue them for myself. I noticed he had cool code names for the members he made a file on like \"Polymer\" for Plastic Man and \"Red Sands\" for Martian Manhunter. Can anyone come up with one of those for Green Arrow?</td>\n",
       "      <td>AnonymousGuyChillin</td>\n",
       "      <td>Can someone help me with a code name?</td>\n",
       "      <td>comicbooks</td>\n",
       "    </tr>\n",
       "    <tr>\n",
       "      <th>1</th>\n",
       "      <td>Say what you want about Morrison's Batman or Snyder's, but those runs are legend. They are so good. Even when I don't understand Morrison sometimes I still get the idea and understand maybe 80 percent, Snyder's batman is radically different in terms of hopey preachy batman. Tom King just doesn't do it for me. It's so boring. He uses the same panel shots through story telling and corny lines like \"because I'm batman\" are so bad. And I think... Maybe it's not fair because you had 2 greats before who fucking made crazy ass story arcs with their writing. I gave King a chance. 50 issues is too gracious, but I can't anymore.</td>\n",
       "      <td>Comicboy87</td>\n",
       "      <td>It's really hard for me to like Tom King's Batman when it was Grant Morrison and Scott Snyder before him.</td>\n",
       "      <td>comicbooks</td>\n",
       "    </tr>\n",
       "  </tbody>\n",
       "</table>\n",
       "</div>"
      ],
      "text/plain": [
       "                                                                                                                                                                                                                                                                                                                                                                                                                                                                                                                                                                                                                                              selftext  \\\n",
       "0  I came across a video on YouTube of Batman talking about his plans that he has to stop members of the Justice League if they ever turned against the team.\\n\\nLink to the video: https://youtu.be/ZJVvrmLSTsg\\n\\nI noticed that there were some that he didn't have a full plan for, so I wanted to continue them for myself. I noticed he had cool code names for the members he made a file on like \"Polymer\" for Plastic Man and \"Red Sands\" for Martian Manhunter. Can anyone come up with one of those for Green Arrow?                                                                                                                          \n",
       "1  Say what you want about Morrison's Batman or Snyder's, but those runs are legend. They are so good. Even when I don't understand Morrison sometimes I still get the idea and understand maybe 80 percent, Snyder's batman is radically different in terms of hopey preachy batman. Tom King just doesn't do it for me. It's so boring. He uses the same panel shots through story telling and corny lines like \"because I'm batman\" are so bad. And I think... Maybe it's not fair because you had 2 greats before who fucking made crazy ass story arcs with their writing. I gave King a chance. 50 issues is too gracious, but I can't anymore.    \n",
       "\n",
       "                author  \\\n",
       "0  AnonymousGuyChillin   \n",
       "1  Comicboy87            \n",
       "\n",
       "                                                                                                       title  \\\n",
       "0  Can someone help me with a code name?                                                                       \n",
       "1  It's really hard for me to like Tom King's Batman when it was Grant Morrison and Scott Snyder before him.   \n",
       "\n",
       "    subreddit  \n",
       "0  comicbooks  \n",
       "1  comicbooks  "
      ]
     },
     "execution_count": 17,
     "metadata": {},
     "output_type": "execute_result"
    }
   ],
   "source": [
    "comics.head(2)"
   ]
  },
  {
   "cell_type": "code",
   "execution_count": 18,
   "metadata": {},
   "outputs": [
    {
     "data": {
      "text/html": [
       "<div>\n",
       "<style scoped>\n",
       "    .dataframe tbody tr th:only-of-type {\n",
       "        vertical-align: middle;\n",
       "    }\n",
       "\n",
       "    .dataframe tbody tr th {\n",
       "        vertical-align: top;\n",
       "    }\n",
       "\n",
       "    .dataframe thead th {\n",
       "        text-align: right;\n",
       "    }\n",
       "</style>\n",
       "<table border=\"1\" class=\"dataframe\">\n",
       "  <thead>\n",
       "    <tr style=\"text-align: right;\">\n",
       "      <th></th>\n",
       "      <th>selftext</th>\n",
       "      <th>author</th>\n",
       "      <th>title</th>\n",
       "      <th>subreddit</th>\n",
       "    </tr>\n",
       "  </thead>\n",
       "  <tbody>\n",
       "    <tr>\n",
       "      <th>0</th>\n",
       "      <td>[removed]</td>\n",
       "      <td>ryanseanoreilly</td>\n",
       "      <td>Podcast Review of stories by Charles Beaumont</td>\n",
       "      <td>TwilightZone</td>\n",
       "    </tr>\n",
       "    <tr>\n",
       "      <th>1</th>\n",
       "      <td>Doing a marathon here of the original series. This one had me gripped. I know it's a TV show yadda yadda, but watching John Denver play a great character rubbishing superstition only to be scared out his wits and ultimately facing his doom. \\n\\nHis journey through the park, reminds me how I felt having to do it late at night so many times myself. Paranoia such a bitch. \\n\\nAmazing episode, definitely one of my favourites.</td>\n",
       "      <td>neads1</td>\n",
       "      <td>The Jungle (S3, ep 12)</td>\n",
       "      <td>TwilightZone</td>\n",
       "    </tr>\n",
       "  </tbody>\n",
       "</table>\n",
       "</div>"
      ],
      "text/plain": [
       "                                                                                                                                                                                                                                                                                                                                                                                                                                    selftext  \\\n",
       "0  [removed]                                                                                                                                                                                                                                                                                                                                                                                                                                   \n",
       "1  Doing a marathon here of the original series. This one had me gripped. I know it's a TV show yadda yadda, but watching John Denver play a great character rubbishing superstition only to be scared out his wits and ultimately facing his doom. \\n\\nHis journey through the park, reminds me how I felt having to do it late at night so many times myself. Paranoia such a bitch. \\n\\nAmazing episode, definitely one of my favourites.   \n",
       "\n",
       "            author                                          title  \\\n",
       "0  ryanseanoreilly  Podcast Review of stories by Charles Beaumont   \n",
       "1  neads1           The Jungle (S3, ep 12)                          \n",
       "\n",
       "      subreddit  \n",
       "0  TwilightZone  \n",
       "1  TwilightZone  "
      ]
     },
     "execution_count": 18,
     "metadata": {},
     "output_type": "execute_result"
    }
   ],
   "source": [
    "zone.head(2)"
   ]
  },
  {
   "cell_type": "markdown",
   "metadata": {},
   "source": [
    "### Lemmatizing Text Columns \n",
    "Need to preprocess and create a new 'combined_text' column for our combined dataframe, comics_zone. Kept dataframes separate to avoid confusion before concatenation. "
   ]
  },
  {
   "cell_type": "code",
   "execution_count": 19,
   "metadata": {},
   "outputs": [],
   "source": [
    "# setting up tokenizer and lemmatizer\n",
    "tokenizer = RegexpTokenizer(r'\\w+')\n",
    "lemmatizer = WordNetLemmatizer()"
   ]
  },
  {
   "cell_type": "code",
   "execution_count": 20,
   "metadata": {},
   "outputs": [],
   "source": [
    "# function to lemmatize (with help from Kate Dowdy)\n",
    "def lemma(text):\n",
    "    tokens = tokenizer.tokenize(str(text))\n",
    "    lems = [lemmatizer.lemmatize(i) for i in tokens]\n",
    "    \n",
    "    return(\" \".join(lems))"
   ]
  },
  {
   "cell_type": "code",
   "execution_count": 21,
   "metadata": {},
   "outputs": [],
   "source": [
    "# create a column for lemmatized words \n",
    "zone['lems'] = zone['selftext'].apply(lambda x: lemma(x))"
   ]
  },
  {
   "cell_type": "code",
   "execution_count": 22,
   "metadata": {},
   "outputs": [],
   "source": [
    "zone['title_lems'] = zone['title'].apply(lambda x: lemma(x))"
   ]
  },
  {
   "cell_type": "code",
   "execution_count": 23,
   "metadata": {},
   "outputs": [],
   "source": [
    "# create a column for lemmatized words \n",
    "comics['lems'] = comics['selftext'].apply(lambda x: lemma(x))"
   ]
  },
  {
   "cell_type": "code",
   "execution_count": 24,
   "metadata": {},
   "outputs": [],
   "source": [
    "comics['title_lems'] = comics['title'].apply(lambda x: lemma(x))"
   ]
  },
  {
   "cell_type": "code",
   "execution_count": 25,
   "metadata": {},
   "outputs": [],
   "source": [
    "# function to remove hanging contraction leftovers (given to me by Kate Dowdy)\n",
    "def nocontract(x):\n",
    "    x = re.sub(\"([ ][r][e][ ])\", \" \", x)\n",
    "    x = re.sub(\"([ ][v][e][ ])\", \" \", x)\n",
    "    x = re.sub(\"([ ][l][l][ ])\", \" \", x)\n",
    "    x = re.sub(\"([ ][d][ ])\", \" \", x)\n",
    "    x = re.sub(\"([ ][t][ ])\", \" \", x)\n",
    "    x = re.sub(\"([ ][m][ ])\", \" \", x)\n",
    "    x = re.sub(\"([ ][s][ ])\", \" \", x)\n",
    "    return x"
   ]
  },
  {
   "cell_type": "code",
   "execution_count": 26,
   "metadata": {},
   "outputs": [],
   "source": [
    "# applying no contractions function to both dataframes\n",
    "zone['lems'] = zone['lems'].apply(lambda x: nocontract(x))\n",
    "zone['title_lems'] = zone['title_lems'].apply(lambda x: nocontract(x))\n",
    "comics['lems'] = comics['lems'].apply(lambda x: nocontract(x))\n",
    "comics['title_lems'] = comics['title_lems'].apply(lambda x: nocontract(x))"
   ]
  },
  {
   "cell_type": "code",
   "execution_count": 27,
   "metadata": {},
   "outputs": [
    {
     "data": {
      "text/html": [
       "<div>\n",
       "<style scoped>\n",
       "    .dataframe tbody tr th:only-of-type {\n",
       "        vertical-align: middle;\n",
       "    }\n",
       "\n",
       "    .dataframe tbody tr th {\n",
       "        vertical-align: top;\n",
       "    }\n",
       "\n",
       "    .dataframe thead th {\n",
       "        text-align: right;\n",
       "    }\n",
       "</style>\n",
       "<table border=\"1\" class=\"dataframe\">\n",
       "  <thead>\n",
       "    <tr style=\"text-align: right;\">\n",
       "      <th></th>\n",
       "      <th>selftext</th>\n",
       "      <th>author</th>\n",
       "      <th>title</th>\n",
       "      <th>subreddit</th>\n",
       "      <th>lems</th>\n",
       "      <th>title_lems</th>\n",
       "    </tr>\n",
       "  </thead>\n",
       "  <tbody>\n",
       "    <tr>\n",
       "      <th>0</th>\n",
       "      <td>[removed]</td>\n",
       "      <td>ryanseanoreilly</td>\n",
       "      <td>Podcast Review of stories by Charles Beaumont</td>\n",
       "      <td>TwilightZone</td>\n",
       "      <td>removed</td>\n",
       "      <td>Podcast Review of story by Charles Beaumont</td>\n",
       "    </tr>\n",
       "    <tr>\n",
       "      <th>1</th>\n",
       "      <td>Doing a marathon here of the original series. This one had me gripped. I know it's a TV show yadda yadda, but watching John Denver play a great character rubbishing superstition only to be scared out his wits and ultimately facing his doom. \\n\\nHis journey through the park, reminds me how I felt having to do it late at night so many times myself. Paranoia such a bitch. \\n\\nAmazing episode, definitely one of my favourites.</td>\n",
       "      <td>neads1</td>\n",
       "      <td>The Jungle (S3, ep 12)</td>\n",
       "      <td>TwilightZone</td>\n",
       "      <td>Doing a marathon here of the original series This one had me gripped I know it a TV show yadda yadda but watching John Denver play a great character rubbishing superstition only to be scared out his wit and ultimately facing his doom His journey through the park reminds me how I felt having to do it late at night so many time myself Paranoia such a bitch Amazing episode definitely one of my favourite</td>\n",
       "      <td>The Jungle S3 ep 12</td>\n",
       "    </tr>\n",
       "  </tbody>\n",
       "</table>\n",
       "</div>"
      ],
      "text/plain": [
       "                                                                                                                                                                                                                                                                                                                                                                                                                                    selftext  \\\n",
       "0  [removed]                                                                                                                                                                                                                                                                                                                                                                                                                                   \n",
       "1  Doing a marathon here of the original series. This one had me gripped. I know it's a TV show yadda yadda, but watching John Denver play a great character rubbishing superstition only to be scared out his wits and ultimately facing his doom. \\n\\nHis journey through the park, reminds me how I felt having to do it late at night so many times myself. Paranoia such a bitch. \\n\\nAmazing episode, definitely one of my favourites.   \n",
       "\n",
       "            author                                          title  \\\n",
       "0  ryanseanoreilly  Podcast Review of stories by Charles Beaumont   \n",
       "1  neads1           The Jungle (S3, ep 12)                          \n",
       "\n",
       "      subreddit  \\\n",
       "0  TwilightZone   \n",
       "1  TwilightZone   \n",
       "\n",
       "                                                                                                                                                                                                                                                                                                                                                                                                                  lems  \\\n",
       "0  removed                                                                                                                                                                                                                                                                                                                                                                                                               \n",
       "1  Doing a marathon here of the original series This one had me gripped I know it a TV show yadda yadda but watching John Denver play a great character rubbishing superstition only to be scared out his wit and ultimately facing his doom His journey through the park reminds me how I felt having to do it late at night so many time myself Paranoia such a bitch Amazing episode definitely one of my favourite   \n",
       "\n",
       "                                    title_lems  \n",
       "0  Podcast Review of story by Charles Beaumont  \n",
       "1  The Jungle S3 ep 12                          "
      ]
     },
     "execution_count": 27,
     "metadata": {},
     "output_type": "execute_result"
    }
   ],
   "source": [
    "zone.head(2)"
   ]
  },
  {
   "cell_type": "code",
   "execution_count": 28,
   "metadata": {
    "scrolled": true
   },
   "outputs": [
    {
     "data": {
      "text/html": [
       "<div>\n",
       "<style scoped>\n",
       "    .dataframe tbody tr th:only-of-type {\n",
       "        vertical-align: middle;\n",
       "    }\n",
       "\n",
       "    .dataframe tbody tr th {\n",
       "        vertical-align: top;\n",
       "    }\n",
       "\n",
       "    .dataframe thead th {\n",
       "        text-align: right;\n",
       "    }\n",
       "</style>\n",
       "<table border=\"1\" class=\"dataframe\">\n",
       "  <thead>\n",
       "    <tr style=\"text-align: right;\">\n",
       "      <th></th>\n",
       "      <th>selftext</th>\n",
       "      <th>author</th>\n",
       "      <th>title</th>\n",
       "      <th>subreddit</th>\n",
       "      <th>lems</th>\n",
       "      <th>title_lems</th>\n",
       "    </tr>\n",
       "  </thead>\n",
       "  <tbody>\n",
       "    <tr>\n",
       "      <th>0</th>\n",
       "      <td>I came across a video on YouTube of Batman talking about his plans that he has to stop members of the Justice League if they ever turned against the team.\\n\\nLink to the video: https://youtu.be/ZJVvrmLSTsg\\n\\nI noticed that there were some that he didn't have a full plan for, so I wanted to continue them for myself. I noticed he had cool code names for the members he made a file on like \"Polymer\" for Plastic Man and \"Red Sands\" for Martian Manhunter. Can anyone come up with one of those for Green Arrow?</td>\n",
       "      <td>AnonymousGuyChillin</td>\n",
       "      <td>Can someone help me with a code name?</td>\n",
       "      <td>comicbooks</td>\n",
       "      <td>I came across a video on YouTube of Batman talking about his plan that he ha to stop member of the Justice League if they ever turned against the team Link to the video http youtu be ZJVvrmLSTsg I noticed that there were some that he didn have a full plan for so I wanted to continue them for myself I noticed he had cool code name for the member he made a file on like Polymer for Plastic Man and Red Sands for Martian Manhunter Can anyone come up with one of those for Green Arrow</td>\n",
       "      <td>Can someone help me with a code name</td>\n",
       "    </tr>\n",
       "  </tbody>\n",
       "</table>\n",
       "</div>"
      ],
      "text/plain": [
       "                                                                                                                                                                                                                                                                                                                                                                                                                                                                                                                        selftext  \\\n",
       "0  I came across a video on YouTube of Batman talking about his plans that he has to stop members of the Justice League if they ever turned against the team.\\n\\nLink to the video: https://youtu.be/ZJVvrmLSTsg\\n\\nI noticed that there were some that he didn't have a full plan for, so I wanted to continue them for myself. I noticed he had cool code names for the members he made a file on like \"Polymer\" for Plastic Man and \"Red Sands\" for Martian Manhunter. Can anyone come up with one of those for Green Arrow?    \n",
       "\n",
       "                author                                  title   subreddit  \\\n",
       "0  AnonymousGuyChillin  Can someone help me with a code name?  comicbooks   \n",
       "\n",
       "                                                                                                                                                                                                                                                                                                                                                                                                                                                                                                 lems  \\\n",
       "0  I came across a video on YouTube of Batman talking about his plan that he ha to stop member of the Justice League if they ever turned against the team Link to the video http youtu be ZJVvrmLSTsg I noticed that there were some that he didn have a full plan for so I wanted to continue them for myself I noticed he had cool code name for the member he made a file on like Polymer for Plastic Man and Red Sands for Martian Manhunter Can anyone come up with one of those for Green Arrow   \n",
       "\n",
       "                             title_lems  \n",
       "0  Can someone help me with a code name  "
      ]
     },
     "execution_count": 28,
     "metadata": {},
     "output_type": "execute_result"
    }
   ],
   "source": [
    "comics.head(1)"
   ]
  },
  {
   "cell_type": "code",
   "execution_count": 29,
   "metadata": {},
   "outputs": [],
   "source": [
    "# Dropping vestigal unprocessed text columns\n",
    "zone.drop(columns=['selftext', 'title'], inplace=True)\n",
    "comics.drop(columns=['selftext', 'title'], inplace=True)"
   ]
  },
  {
   "cell_type": "code",
   "execution_count": 30,
   "metadata": {},
   "outputs": [
    {
     "data": {
      "text/html": [
       "<div>\n",
       "<style scoped>\n",
       "    .dataframe tbody tr th:only-of-type {\n",
       "        vertical-align: middle;\n",
       "    }\n",
       "\n",
       "    .dataframe tbody tr th {\n",
       "        vertical-align: top;\n",
       "    }\n",
       "\n",
       "    .dataframe thead th {\n",
       "        text-align: right;\n",
       "    }\n",
       "</style>\n",
       "<table border=\"1\" class=\"dataframe\">\n",
       "  <thead>\n",
       "    <tr style=\"text-align: right;\">\n",
       "      <th></th>\n",
       "      <th>author</th>\n",
       "      <th>subreddit</th>\n",
       "      <th>lems</th>\n",
       "      <th>title_lems</th>\n",
       "    </tr>\n",
       "  </thead>\n",
       "  <tbody>\n",
       "    <tr>\n",
       "      <th>0</th>\n",
       "      <td>AnonymousGuyChillin</td>\n",
       "      <td>comicbooks</td>\n",
       "      <td>I came across a video on YouTube of Batman talking about his plan that he ha to stop member of the Justice League if they ever turned against the team Link to the video http youtu be ZJVvrmLSTsg I noticed that there were some that he didn have a full plan for so I wanted to continue them for myself I noticed he had cool code name for the member he made a file on like Polymer for Plastic Man and Red Sands for Martian Manhunter Can anyone come up with one of those for Green Arrow</td>\n",
       "      <td>Can someone help me with a code name</td>\n",
       "    </tr>\n",
       "    <tr>\n",
       "      <th>1</th>\n",
       "      <td>Comicboy87</td>\n",
       "      <td>comicbooks</td>\n",
       "      <td>Say what you want about Morrison Batman or Snyder but those run are legend They are so good Even when I don understand Morrison sometimes I still get the idea and understand maybe 80 percent Snyder batman is radically different in term of hopey preachy batman Tom King just doesn do it for me It so boring He us the same panel shot through story telling and corny line like because I batman are so bad And I think Maybe it not fair because you had 2 great before who fucking made crazy as story arc with their writing I gave King a chance 50 issue is too gracious but I can anymore</td>\n",
       "      <td>It really hard for me to like Tom King Batman when it wa Grant Morrison and Scott Snyder before him</td>\n",
       "    </tr>\n",
       "  </tbody>\n",
       "</table>\n",
       "</div>"
      ],
      "text/plain": [
       "                author   subreddit  \\\n",
       "0  AnonymousGuyChillin  comicbooks   \n",
       "1  Comicboy87           comicbooks   \n",
       "\n",
       "                                                                                                                                                                                                                                                                                                                                                                                                                                                                                                                                                                                                    lems  \\\n",
       "0  I came across a video on YouTube of Batman talking about his plan that he ha to stop member of the Justice League if they ever turned against the team Link to the video http youtu be ZJVvrmLSTsg I noticed that there were some that he didn have a full plan for so I wanted to continue them for myself I noticed he had cool code name for the member he made a file on like Polymer for Plastic Man and Red Sands for Martian Manhunter Can anyone come up with one of those for Green Arrow                                                                                                      \n",
       "1  Say what you want about Morrison Batman or Snyder but those run are legend They are so good Even when I don understand Morrison sometimes I still get the idea and understand maybe 80 percent Snyder batman is radically different in term of hopey preachy batman Tom King just doesn do it for me It so boring He us the same panel shot through story telling and corny line like because I batman are so bad And I think Maybe it not fair because you had 2 great before who fucking made crazy as story arc with their writing I gave King a chance 50 issue is too gracious but I can anymore   \n",
       "\n",
       "                                                                                            title_lems  \n",
       "0  Can someone help me with a code name                                                                 \n",
       "1  It really hard for me to like Tom King Batman when it wa Grant Morrison and Scott Snyder before him  "
      ]
     },
     "execution_count": 30,
     "metadata": {},
     "output_type": "execute_result"
    }
   ],
   "source": [
    "comics.head(2)"
   ]
  },
  {
   "cell_type": "code",
   "execution_count": 31,
   "metadata": {},
   "outputs": [
    {
     "data": {
      "text/html": [
       "<div>\n",
       "<style scoped>\n",
       "    .dataframe tbody tr th:only-of-type {\n",
       "        vertical-align: middle;\n",
       "    }\n",
       "\n",
       "    .dataframe tbody tr th {\n",
       "        vertical-align: top;\n",
       "    }\n",
       "\n",
       "    .dataframe thead th {\n",
       "        text-align: right;\n",
       "    }\n",
       "</style>\n",
       "<table border=\"1\" class=\"dataframe\">\n",
       "  <thead>\n",
       "    <tr style=\"text-align: right;\">\n",
       "      <th></th>\n",
       "      <th>author</th>\n",
       "      <th>subreddit</th>\n",
       "      <th>lems</th>\n",
       "      <th>title_lems</th>\n",
       "    </tr>\n",
       "  </thead>\n",
       "  <tbody>\n",
       "    <tr>\n",
       "      <th>0</th>\n",
       "      <td>ryanseanoreilly</td>\n",
       "      <td>TwilightZone</td>\n",
       "      <td>removed</td>\n",
       "      <td>Podcast Review of story by Charles Beaumont</td>\n",
       "    </tr>\n",
       "    <tr>\n",
       "      <th>1</th>\n",
       "      <td>neads1</td>\n",
       "      <td>TwilightZone</td>\n",
       "      <td>Doing a marathon here of the original series This one had me gripped I know it a TV show yadda yadda but watching John Denver play a great character rubbishing superstition only to be scared out his wit and ultimately facing his doom His journey through the park reminds me how I felt having to do it late at night so many time myself Paranoia such a bitch Amazing episode definitely one of my favourite</td>\n",
       "      <td>The Jungle S3 ep 12</td>\n",
       "    </tr>\n",
       "  </tbody>\n",
       "</table>\n",
       "</div>"
      ],
      "text/plain": [
       "            author     subreddit  \\\n",
       "0  ryanseanoreilly  TwilightZone   \n",
       "1  neads1           TwilightZone   \n",
       "\n",
       "                                                                                                                                                                                                                                                                                                                                                                                                                  lems  \\\n",
       "0  removed                                                                                                                                                                                                                                                                                                                                                                                                               \n",
       "1  Doing a marathon here of the original series This one had me gripped I know it a TV show yadda yadda but watching John Denver play a great character rubbishing superstition only to be scared out his wit and ultimately facing his doom His journey through the park reminds me how I felt having to do it late at night so many time myself Paranoia such a bitch Amazing episode definitely one of my favourite   \n",
       "\n",
       "                                    title_lems  \n",
       "0  Podcast Review of story by Charles Beaumont  \n",
       "1  The Jungle S3 ep 12                          "
      ]
     },
     "execution_count": 31,
     "metadata": {},
     "output_type": "execute_result"
    }
   ],
   "source": [
    "zone.head(2)"
   ]
  },
  {
   "cell_type": "code",
   "execution_count": 32,
   "metadata": {},
   "outputs": [],
   "source": [
    "# Saving cleaned comics dataset to csv \n",
    "comics.to_csv('../data/cleaned_data/comics')"
   ]
  },
  {
   "cell_type": "code",
   "execution_count": 33,
   "metadata": {},
   "outputs": [],
   "source": [
    "# Saving cleaned zone dataset to csv\n",
    "zone.to_csv('../data/cleaned_data/zone')"
   ]
  },
  {
   "cell_type": "code",
   "execution_count": 34,
   "metadata": {},
   "outputs": [],
   "source": [
    "# Concatenating dataframes \n",
    "comics_zone = pd.concat([zone, comics])"
   ]
  },
  {
   "cell_type": "code",
   "execution_count": 35,
   "metadata": {},
   "outputs": [
    {
     "data": {
      "text/plain": [
       "comicbooks      888\n",
       "TwilightZone    422\n",
       "Name: subreddit, dtype: int64"
      ]
     },
     "execution_count": 35,
     "metadata": {},
     "output_type": "execute_result"
    }
   ],
   "source": [
    "comics_zone['subreddit'].value_counts()"
   ]
  },
  {
   "cell_type": "code",
   "execution_count": 36,
   "metadata": {},
   "outputs": [
    {
     "data": {
      "text/html": [
       "<div>\n",
       "<style scoped>\n",
       "    .dataframe tbody tr th:only-of-type {\n",
       "        vertical-align: middle;\n",
       "    }\n",
       "\n",
       "    .dataframe tbody tr th {\n",
       "        vertical-align: top;\n",
       "    }\n",
       "\n",
       "    .dataframe thead th {\n",
       "        text-align: right;\n",
       "    }\n",
       "</style>\n",
       "<table border=\"1\" class=\"dataframe\">\n",
       "  <thead>\n",
       "    <tr style=\"text-align: right;\">\n",
       "      <th></th>\n",
       "      <th>author</th>\n",
       "      <th>subreddit</th>\n",
       "      <th>lems</th>\n",
       "      <th>title_lems</th>\n",
       "    </tr>\n",
       "  </thead>\n",
       "  <tbody>\n",
       "    <tr>\n",
       "      <th>0</th>\n",
       "      <td>ryanseanoreilly</td>\n",
       "      <td>1</td>\n",
       "      <td>removed</td>\n",
       "      <td>Podcast Review of story by Charles Beaumont</td>\n",
       "    </tr>\n",
       "    <tr>\n",
       "      <th>1</th>\n",
       "      <td>neads1</td>\n",
       "      <td>1</td>\n",
       "      <td>Doing a marathon here of the original series This one had me gripped I know it a TV show yadda yadda but watching John Denver play a great character rubbishing superstition only to be scared out his wit and ultimately facing his doom His journey through the park reminds me how I felt having to do it late at night so many time myself Paranoia such a bitch Amazing episode definitely one of my favourite</td>\n",
       "      <td>The Jungle S3 ep 12</td>\n",
       "    </tr>\n",
       "  </tbody>\n",
       "</table>\n",
       "</div>"
      ],
      "text/plain": [
       "            author  subreddit  \\\n",
       "0  ryanseanoreilly  1           \n",
       "1  neads1           1           \n",
       "\n",
       "                                                                                                                                                                                                                                                                                                                                                                                                                  lems  \\\n",
       "0  removed                                                                                                                                                                                                                                                                                                                                                                                                               \n",
       "1  Doing a marathon here of the original series This one had me gripped I know it a TV show yadda yadda but watching John Denver play a great character rubbishing superstition only to be scared out his wit and ultimately facing his doom His journey through the park reminds me how I felt having to do it late at night so many time myself Paranoia such a bitch Amazing episode definitely one of my favourite   \n",
       "\n",
       "                                    title_lems  \n",
       "0  Podcast Review of story by Charles Beaumont  \n",
       "1  The Jungle S3 ep 12                          "
      ]
     },
     "execution_count": 36,
     "metadata": {},
     "output_type": "execute_result"
    }
   ],
   "source": [
    "# Changing 'subreddit' values into binary 1 = Twilight Zone, 0 = 'scifi'\n",
    "comics_zone['subreddit'] = comics_zone['subreddit'].map({'comicbooks': 0, 'TwilightZone': 1})\n",
    "comics_zone.head(2)"
   ]
  },
  {
   "cell_type": "code",
   "execution_count": 37,
   "metadata": {},
   "outputs": [],
   "source": [
    "# Create a combined column for all of our text \n",
    "comics_zone['combined_text'] = comics_zone['lems'] + comics_zone['title_lems']"
   ]
  },
  {
   "cell_type": "code",
   "execution_count": 38,
   "metadata": {},
   "outputs": [
    {
     "data": {
      "text/html": [
       "<div>\n",
       "<style scoped>\n",
       "    .dataframe tbody tr th:only-of-type {\n",
       "        vertical-align: middle;\n",
       "    }\n",
       "\n",
       "    .dataframe tbody tr th {\n",
       "        vertical-align: top;\n",
       "    }\n",
       "\n",
       "    .dataframe thead th {\n",
       "        text-align: right;\n",
       "    }\n",
       "</style>\n",
       "<table border=\"1\" class=\"dataframe\">\n",
       "  <thead>\n",
       "    <tr style=\"text-align: right;\">\n",
       "      <th></th>\n",
       "      <th>author</th>\n",
       "      <th>subreddit</th>\n",
       "      <th>lems</th>\n",
       "      <th>title_lems</th>\n",
       "      <th>combined_text</th>\n",
       "    </tr>\n",
       "  </thead>\n",
       "  <tbody>\n",
       "    <tr>\n",
       "      <th>0</th>\n",
       "      <td>ryanseanoreilly</td>\n",
       "      <td>1</td>\n",
       "      <td>removed</td>\n",
       "      <td>Podcast Review of story by Charles Beaumont</td>\n",
       "      <td>removedPodcast Review of story by Charles Beaumont</td>\n",
       "    </tr>\n",
       "    <tr>\n",
       "      <th>1</th>\n",
       "      <td>neads1</td>\n",
       "      <td>1</td>\n",
       "      <td>Doing a marathon here of the original series This one had me gripped I know it a TV show yadda yadda but watching John Denver play a great character rubbishing superstition only to be scared out his wit and ultimately facing his doom His journey through the park reminds me how I felt having to do it late at night so many time myself Paranoia such a bitch Amazing episode definitely one of my favourite</td>\n",
       "      <td>The Jungle S3 ep 12</td>\n",
       "      <td>Doing a marathon here of the original series This one had me gripped I know it a TV show yadda yadda but watching John Denver play a great character rubbishing superstition only to be scared out his wit and ultimately facing his doom His journey through the park reminds me how I felt having to do it late at night so many time myself Paranoia such a bitch Amazing episode definitely one of my favouriteThe Jungle S3 ep 12</td>\n",
       "    </tr>\n",
       "  </tbody>\n",
       "</table>\n",
       "</div>"
      ],
      "text/plain": [
       "            author  subreddit  \\\n",
       "0  ryanseanoreilly  1           \n",
       "1  neads1           1           \n",
       "\n",
       "                                                                                                                                                                                                                                                                                                                                                                                                                  lems  \\\n",
       "0  removed                                                                                                                                                                                                                                                                                                                                                                                                               \n",
       "1  Doing a marathon here of the original series This one had me gripped I know it a TV show yadda yadda but watching John Denver play a great character rubbishing superstition only to be scared out his wit and ultimately facing his doom His journey through the park reminds me how I felt having to do it late at night so many time myself Paranoia such a bitch Amazing episode definitely one of my favourite   \n",
       "\n",
       "                                    title_lems  \\\n",
       "0  Podcast Review of story by Charles Beaumont   \n",
       "1  The Jungle S3 ep 12                           \n",
       "\n",
       "                                                                                                                                                                                                                                                                                                                                                                                                                            combined_text  \n",
       "0  removedPodcast Review of story by Charles Beaumont                                                                                                                                                                                                                                                                                                                                                                                      \n",
       "1  Doing a marathon here of the original series This one had me gripped I know it a TV show yadda yadda but watching John Denver play a great character rubbishing superstition only to be scared out his wit and ultimately facing his doom His journey through the park reminds me how I felt having to do it late at night so many time myself Paranoia such a bitch Amazing episode definitely one of my favouriteThe Jungle S3 ep 12  "
      ]
     },
     "execution_count": 38,
     "metadata": {},
     "output_type": "execute_result"
    }
   ],
   "source": [
    "comics_zone.head(2)"
   ]
  },
  {
   "cell_type": "code",
   "execution_count": 39,
   "metadata": {},
   "outputs": [],
   "source": [
    "# Save cleaned and lemmatized data to csv\n",
    "comics_zone.to_csv('../data/cleaned_data/comics_zone')"
   ]
  }
 ],
 "metadata": {
  "kernelspec": {
   "display_name": "Python 3",
   "language": "python",
   "name": "python3"
  },
  "language_info": {
   "codemirror_mode": {
    "name": "ipython",
    "version": 3
   },
   "file_extension": ".py",
   "mimetype": "text/x-python",
   "name": "python",
   "nbconvert_exporter": "python",
   "pygments_lexer": "ipython3",
   "version": "3.6.4"
  },
  "toc": {
   "base_numbering": 1,
   "nav_menu": {},
   "number_sections": false,
   "sideBar": true,
   "skip_h1_title": false,
   "title_cell": "Table of Contents",
   "title_sidebar": "Contents",
   "toc_cell": false,
   "toc_position": {
    "height": "calc(100% - 180px)",
    "left": "10px",
    "top": "150px",
    "width": "250.43478393554688px"
   },
   "toc_section_display": true,
   "toc_window_display": false
  },
  "varInspector": {
   "cols": {
    "lenName": 16,
    "lenType": 16,
    "lenVar": 40
   },
   "kernels_config": {
    "python": {
     "delete_cmd_postfix": "",
     "delete_cmd_prefix": "del ",
     "library": "var_list.py",
     "varRefreshCmd": "print(var_dic_list())"
    },
    "r": {
     "delete_cmd_postfix": ") ",
     "delete_cmd_prefix": "rm(",
     "library": "var_list.r",
     "varRefreshCmd": "cat(var_dic_list()) "
    }
   },
   "types_to_exclude": [
    "module",
    "function",
    "builtin_function_or_method",
    "instance",
    "_Feature"
   ],
   "window_display": false
  }
 },
 "nbformat": 4,
 "nbformat_minor": 2
}
