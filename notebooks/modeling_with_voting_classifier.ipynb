{
 "cells": [
  {
   "cell_type": "code",
   "execution_count": 1,
   "metadata": {},
   "outputs": [],
   "source": [
    "import pandas as pd\n",
    "import numpy as np\n",
    "\n",
    "from sklearn.ensemble import VotingClassifier, RandomForestClassifier, AdaBoostClassifier, GradientBoostingClassifier\n",
    "from sklearn.linear_model import LogisticRegression\n",
    "from sklearn.model_selection import train_test_split\n",
    "from sklearn.feature_extraction.text import CountVectorizer, TfidfVectorizer\n",
    "from sklearn.preprocessing import StandardScaler, PolynomialFeatures\n",
    "\n",
    "import warnings\n",
    "warnings.filterwarnings('ignore')\n",
    "pd.options.display.max_columns = 5_000\n",
    "\n",
    "np.random.seed(42)"
   ]
  },
  {
   "cell_type": "code",
   "execution_count": 2,
   "metadata": {},
   "outputs": [],
   "source": [
    "comics_zone = pd.read_csv('../data/cleaned_data/comics_zone')"
   ]
  },
  {
   "cell_type": "code",
   "execution_count": 3,
   "metadata": {},
   "outputs": [
    {
     "data": {
      "text/html": [
       "<div>\n",
       "<style scoped>\n",
       "    .dataframe tbody tr th:only-of-type {\n",
       "        vertical-align: middle;\n",
       "    }\n",
       "\n",
       "    .dataframe tbody tr th {\n",
       "        vertical-align: top;\n",
       "    }\n",
       "\n",
       "    .dataframe thead th {\n",
       "        text-align: right;\n",
       "    }\n",
       "</style>\n",
       "<table border=\"1\" class=\"dataframe\">\n",
       "  <thead>\n",
       "    <tr style=\"text-align: right;\">\n",
       "      <th></th>\n",
       "      <th>Unnamed: 0</th>\n",
       "      <th>author</th>\n",
       "      <th>subreddit</th>\n",
       "      <th>lems</th>\n",
       "      <th>title_lems</th>\n",
       "      <th>combined_text</th>\n",
       "    </tr>\n",
       "  </thead>\n",
       "  <tbody>\n",
       "    <tr>\n",
       "      <td>0</td>\n",
       "      <td>0</td>\n",
       "      <td>GAMESHARQ</td>\n",
       "      <td>1</td>\n",
       "      <td>I a big fan of the Twilight Zone I have the co...</td>\n",
       "      <td>Twilight Zone fan what your opinion on the Alf...</td>\n",
       "      <td>I a big fan of the Twilight Zone I have the co...</td>\n",
       "    </tr>\n",
       "    <tr>\n",
       "      <td>1</td>\n",
       "      <td>1</td>\n",
       "      <td>Pockets_The_Paladin</td>\n",
       "      <td>1</td>\n",
       "      <td>SPOILERS AHEAD Just wanted to warn anyone befo...</td>\n",
       "      <td>Will the real martian please stand up is one g...</td>\n",
       "      <td>SPOILERS AHEAD Just wanted to warn anyone befo...</td>\n",
       "    </tr>\n",
       "    <tr>\n",
       "      <td>2</td>\n",
       "      <td>2</td>\n",
       "      <td>zonezonepod</td>\n",
       "      <td>1</td>\n",
       "      <td>This week Adam and Dave review The Chaser and ...</td>\n",
       "      <td>The Zone Zone review The Chaser aka Yikes</td>\n",
       "      <td>This week Adam and Dave review The Chaser and ...</td>\n",
       "    </tr>\n",
       "    <tr>\n",
       "      <td>3</td>\n",
       "      <td>3</td>\n",
       "      <td>zonezonepod</td>\n",
       "      <td>1</td>\n",
       "      <td>This week Adam and Dave review The Chaser and ...</td>\n",
       "      <td>The Zone Zone review Twilight Zone The Chaser</td>\n",
       "      <td>This week Adam and Dave review The Chaser and ...</td>\n",
       "    </tr>\n",
       "    <tr>\n",
       "      <td>4</td>\n",
       "      <td>4</td>\n",
       "      <td>zonezonepod</td>\n",
       "      <td>1</td>\n",
       "      <td>This week Adam and Dave review The Chaser and ...</td>\n",
       "      <td>The Zone Zone review The Chaser and Yikes</td>\n",
       "      <td>This week Adam and Dave review The Chaser and ...</td>\n",
       "    </tr>\n",
       "  </tbody>\n",
       "</table>\n",
       "</div>"
      ],
      "text/plain": [
       "   Unnamed: 0               author  subreddit  \\\n",
       "0           0            GAMESHARQ          1   \n",
       "1           1  Pockets_The_Paladin          1   \n",
       "2           2          zonezonepod          1   \n",
       "3           3          zonezonepod          1   \n",
       "4           4          zonezonepod          1   \n",
       "\n",
       "                                                lems  \\\n",
       "0  I a big fan of the Twilight Zone I have the co...   \n",
       "1  SPOILERS AHEAD Just wanted to warn anyone befo...   \n",
       "2  This week Adam and Dave review The Chaser and ...   \n",
       "3  This week Adam and Dave review The Chaser and ...   \n",
       "4  This week Adam and Dave review The Chaser and ...   \n",
       "\n",
       "                                          title_lems  \\\n",
       "0  Twilight Zone fan what your opinion on the Alf...   \n",
       "1  Will the real martian please stand up is one g...   \n",
       "2          The Zone Zone review The Chaser aka Yikes   \n",
       "3      The Zone Zone review Twilight Zone The Chaser   \n",
       "4          The Zone Zone review The Chaser and Yikes   \n",
       "\n",
       "                                       combined_text  \n",
       "0  I a big fan of the Twilight Zone I have the co...  \n",
       "1  SPOILERS AHEAD Just wanted to warn anyone befo...  \n",
       "2  This week Adam and Dave review The Chaser and ...  \n",
       "3  This week Adam and Dave review The Chaser and ...  \n",
       "4  This week Adam and Dave review The Chaser and ...  "
      ]
     },
     "execution_count": 3,
     "metadata": {},
     "output_type": "execute_result"
    }
   ],
   "source": [
    "comics_zone.head()"
   ]
  },
  {
   "cell_type": "code",
   "execution_count": 4,
   "metadata": {},
   "outputs": [
    {
     "data": {
      "text/plain": [
       "0    0.592678\n",
       "1    0.407322\n",
       "Name: subreddit, dtype: float64"
      ]
     },
     "execution_count": 4,
     "metadata": {},
     "output_type": "execute_result"
    }
   ],
   "source": [
    "# Baseline; our classes are not too unbalanced; \n",
    "comics_zone['subreddit'].value_counts(normalize=True)"
   ]
  },
  {
   "cell_type": "code",
   "execution_count": 5,
   "metadata": {},
   "outputs": [],
   "source": [
    "X_train, X_test, y_train, y_test = train_test_split(comics_zone['combined_text'], comics_zone['subreddit'])"
   ]
  },
  {
   "cell_type": "code",
   "execution_count": 6,
   "metadata": {},
   "outputs": [],
   "source": [
    "cvec = CountVectorizer(max_features=5000, ngram_range=(1, 2))"
   ]
  },
  {
   "cell_type": "code",
   "execution_count": 7,
   "metadata": {},
   "outputs": [],
   "source": [
    "# Fit our CountVectorizer on the training data and transform training data.\n",
    "X_train_cvec = pd.DataFrame(cvec.fit_transform(X_train).todense(),\n",
    "                          columns = cvec.get_feature_names())\n",
    "\n",
    "# Transform our testing data with the already-fit CountVectorizer.\n",
    "X_test_cvec = pd.DataFrame(cvec.transform(X_test).todense(),\n",
    "                         columns = cvec.get_feature_names())"
   ]
  },
  {
   "cell_type": "code",
   "execution_count": 8,
   "metadata": {},
   "outputs": [
    {
     "data": {
      "text/plain": [
       "(2274, 5000)"
      ]
     },
     "execution_count": 8,
     "metadata": {},
     "output_type": "execute_result"
    }
   ],
   "source": [
    "# Checking shapes and value counts for symmetry\n",
    "X_train_cvec.shape"
   ]
  },
  {
   "cell_type": "code",
   "execution_count": 9,
   "metadata": {},
   "outputs": [
    {
     "data": {
      "text/plain": [
       "(758, 5000)"
      ]
     },
     "execution_count": 9,
     "metadata": {},
     "output_type": "execute_result"
    }
   ],
   "source": [
    "X_test_cvec.shape"
   ]
  },
  {
   "cell_type": "code",
   "execution_count": 10,
   "metadata": {},
   "outputs": [
    {
     "data": {
      "text/plain": [
       "0    1364\n",
       "1     910\n",
       "Name: subreddit, dtype: int64"
      ]
     },
     "execution_count": 10,
     "metadata": {},
     "output_type": "execute_result"
    }
   ],
   "source": [
    "y_train.value_counts()"
   ]
  },
  {
   "cell_type": "code",
   "execution_count": 11,
   "metadata": {},
   "outputs": [
    {
     "name": "stdout",
     "output_type": "stream",
     "text": [
      "VC Train Score: 0.9841688654353562\n",
      "VC Test Score: 0.9366754617414248\n"
     ]
    }
   ],
   "source": [
    "# Voting Classifier is an ensemble estimator where each model 'votes', 'hard' voting is majority rule voting\n",
    "\n",
    "vc = VotingClassifier([('rfc', RandomForestClassifier()), \n",
    "                       ('abc', AdaBoostClassifier()), \n",
    "                       ('gbc', GradientBoostingClassifier()), \n",
    "                       ('log', LogisticRegression())])\n",
    "\n",
    "vc.fit(X_train_cvec, y_train)\n",
    "\n",
    "print(\"VC Train Score:\", vc.score(X_train_cvec, y_train))\n",
    "\n",
    "print(\"VC Test Score:\", vc.score(X_test_cvec, y_test))\n",
    "\n",
    "# Our training score is nearly 5% higher than our test score, slightly overfit"
   ]
  },
  {
   "cell_type": "code",
   "execution_count": 12,
   "metadata": {},
   "outputs": [
    {
     "data": {
      "text/plain": [
       "[RandomForestClassifier(bootstrap=True, class_weight=None, criterion='gini',\n",
       "                        max_depth=None, max_features='auto', max_leaf_nodes=None,\n",
       "                        min_impurity_decrease=0.0, min_impurity_split=None,\n",
       "                        min_samples_leaf=1, min_samples_split=2,\n",
       "                        min_weight_fraction_leaf=0.0, n_estimators=10,\n",
       "                        n_jobs=None, oob_score=False, random_state=None,\n",
       "                        verbose=0, warm_start=False),\n",
       " AdaBoostClassifier(algorithm='SAMME.R', base_estimator=None, learning_rate=1.0,\n",
       "                    n_estimators=50, random_state=None),\n",
       " GradientBoostingClassifier(criterion='friedman_mse', init=None,\n",
       "                            learning_rate=0.1, loss='deviance', max_depth=3,\n",
       "                            max_features=None, max_leaf_nodes=None,\n",
       "                            min_impurity_decrease=0.0, min_impurity_split=None,\n",
       "                            min_samples_leaf=1, min_samples_split=2,\n",
       "                            min_weight_fraction_leaf=0.0, n_estimators=100,\n",
       "                            n_iter_no_change=None, presort='auto',\n",
       "                            random_state=None, subsample=1.0, tol=0.0001,\n",
       "                            validation_fraction=0.1, verbose=0,\n",
       "                            warm_start=False),\n",
       " LogisticRegression(C=1.0, class_weight=None, dual=False, fit_intercept=True,\n",
       "                    intercept_scaling=1, l1_ratio=None, max_iter=100,\n",
       "                    multi_class='warn', n_jobs=None, penalty='l2',\n",
       "                    random_state=None, solver='warn', tol=0.0001, verbose=0,\n",
       "                    warm_start=False)]"
      ]
     },
     "execution_count": 12,
     "metadata": {},
     "output_type": "execute_result"
    }
   ],
   "source": [
    "vc.estimators_"
   ]
  },
  {
   "cell_type": "code",
   "execution_count": 13,
   "metadata": {},
   "outputs": [
    {
     "name": "stdout",
     "output_type": "stream",
     "text": [
      "0.9964819700967458\n",
      "0.9366754617414248\n"
     ]
    }
   ],
   "source": [
    "# Since our train/test was completed; a Random Forest Classifier was fitted; RFC is a collection of decision trees\n",
    "\n",
    "rf = RandomForestClassifier()\n",
    "\n",
    "rf.fit(X_train_cvec, y_train)\n",
    "print(rf.score(X_train_cvec, y_train))\n",
    "print(rf.score(X_test_cvec, y_test))\n",
    "\n",
    "# Our Random Forest Classifier performed relatively the same as our Voting Classifier"
   ]
  },
  {
   "cell_type": "code",
   "execution_count": null,
   "metadata": {},
   "outputs": [],
   "source": []
  }
 ],
 "metadata": {
  "kernelspec": {
   "display_name": "Python 3",
   "language": "python",
   "name": "python3"
  },
  "language_info": {
   "codemirror_mode": {
    "name": "ipython",
    "version": 3
   },
   "file_extension": ".py",
   "mimetype": "text/x-python",
   "name": "python",
   "nbconvert_exporter": "python",
   "pygments_lexer": "ipython3",
   "version": "3.7.4"
  },
  "toc": {
   "base_numbering": 1,
   "nav_menu": {},
   "number_sections": true,
   "sideBar": true,
   "skip_h1_title": false,
   "title_cell": "Table of Contents",
   "title_sidebar": "Contents",
   "toc_cell": false,
   "toc_position": {},
   "toc_section_display": true,
   "toc_window_display": false
  },
  "varInspector": {
   "cols": {
    "lenName": 16,
    "lenType": 16,
    "lenVar": 40
   },
   "kernels_config": {
    "python": {
     "delete_cmd_postfix": "",
     "delete_cmd_prefix": "del ",
     "library": "var_list.py",
     "varRefreshCmd": "print(var_dic_list())"
    },
    "r": {
     "delete_cmd_postfix": ") ",
     "delete_cmd_prefix": "rm(",
     "library": "var_list.r",
     "varRefreshCmd": "cat(var_dic_list()) "
    }
   },
   "types_to_exclude": [
    "module",
    "function",
    "builtin_function_or_method",
    "instance",
    "_Feature"
   ],
   "window_display": false
  }
 },
 "nbformat": 4,
 "nbformat_minor": 2
}
