{
 "cells": [
  {
   "cell_type": "code",
   "execution_count": 1,
   "metadata": {},
   "outputs": [],
   "source": [
    "# Import Libraries\n",
    "import pandas as pd\n",
    "import regex as re\n",
    "import nltk\n",
    "from nltk.stem import WordNetLemmatizer\n",
    "from nltk.tokenize import RegexpTokenizer\n",
    "\n",
    "pd.set_option('display.max_colwidth', -1)\n",
    "pd.options.display.max_columns = 999"
   ]
  },
  {
   "cell_type": "code",
   "execution_count": 2,
   "metadata": {},
   "outputs": [],
   "source": [
    "# Read in two volumes \n",
    "zone = pd.read_csv('../data/raw_data/twilight_zone_raw')\n",
    "comics = pd.read_csv('../data/raw_data/comicbooks_raw')"
   ]
  },
  {
   "cell_type": "code",
   "execution_count": 3,
   "metadata": {},
   "outputs": [],
   "source": [
    "# Going to drop the 'Unnamed' column for each dataset and use the pandas index\n",
    "zone.drop(columns='Unnamed: 0', inplace=True)\n",
    "comics.drop(columns='Unnamed: 0', inplace=True)"
   ]
  },
  {
   "cell_type": "code",
   "execution_count": 4,
   "metadata": {},
   "outputs": [
    {
     "data": {
      "text/plain": [
       "(1235, 8)"
      ]
     },
     "execution_count": 4,
     "metadata": {},
     "output_type": "execute_result"
    }
   ],
   "source": [
    "zone.shape"
   ]
  },
  {
   "cell_type": "code",
   "execution_count": 5,
   "metadata": {},
   "outputs": [
    {
     "data": {
      "text/plain": [
       "(1797, 8)"
      ]
     },
     "execution_count": 5,
     "metadata": {},
     "output_type": "execute_result"
    }
   ],
   "source": [
    "comics.shape"
   ]
  },
  {
   "cell_type": "code",
   "execution_count": 6,
   "metadata": {},
   "outputs": [
    {
     "name": "stdout",
     "output_type": "stream",
     "text": [
      "<class 'pandas.core.frame.DataFrame'>\n",
      "RangeIndex: 1235 entries, 0 to 1234\n",
      "Data columns (total 8 columns):\n",
      "selftext        1116 non-null object\n",
      "author          1235 non-null object\n",
      "title           1235 non-null object\n",
      "created_utc     1235 non-null int64\n",
      "num_comments    1235 non-null int64\n",
      "is_self         1235 non-null bool\n",
      "subreddit       1235 non-null object\n",
      "timestamp       1235 non-null object\n",
      "dtypes: bool(1), int64(2), object(5)\n",
      "memory usage: 68.9+ KB\n"
     ]
    }
   ],
   "source": [
    "# How many of these columns are useful to modeling? \n",
    "zone.info()"
   ]
  },
  {
   "cell_type": "code",
   "execution_count": 7,
   "metadata": {},
   "outputs": [
    {
     "data": {
      "text/plain": [
       "True    1235\n",
       "Name: is_self, dtype: int64"
      ]
     },
     "execution_count": 7,
     "metadata": {},
     "output_type": "execute_result"
    }
   ],
   "source": [
    "# Returns 'True' for every column therefore not going to be a helpful classifier\n",
    "zone['is_self'].value_counts()"
   ]
  },
  {
   "cell_type": "code",
   "execution_count": 8,
   "metadata": {},
   "outputs": [
    {
     "data": {
      "text/plain": [
       "True    1797\n",
       "Name: is_self, dtype: int64"
      ]
     },
     "execution_count": 8,
     "metadata": {},
     "output_type": "execute_result"
    }
   ],
   "source": [
    "# Returns 'True' for every column therefore not going to be a helpful classifier\n",
    "comics['is_self'].value_counts()"
   ]
  },
  {
   "cell_type": "code",
   "execution_count": 9,
   "metadata": {},
   "outputs": [],
   "source": [
    "# Dropping the 'is_self' columns from each dataset\n",
    "zone.drop(columns='is_self', inplace=True)\n",
    "comics.drop(columns='is_self', inplace=True)"
   ]
  },
  {
   "cell_type": "code",
   "execution_count": 10,
   "metadata": {},
   "outputs": [],
   "source": [
    "# Dropping the 'created_utc' column from both datasets\n",
    "zone.drop(columns='created_utc', inplace=True)\n",
    "comics.drop(columns='created_utc', inplace=True)"
   ]
  },
  {
   "cell_type": "code",
   "execution_count": 11,
   "metadata": {},
   "outputs": [],
   "source": [
    "# Need to convert dtypes to strings in appropriate columns \n",
    "for col in ['selftext', 'author', 'title', 'subreddit']:\n",
    "    zone[col] = zone[col].astype(str)"
   ]
  },
  {
   "cell_type": "code",
   "execution_count": 12,
   "metadata": {},
   "outputs": [],
   "source": [
    "for col in ['selftext', 'author', 'title', 'subreddit']:\n",
    "    comics[col] = comics[col].astype(str)"
   ]
  },
  {
   "cell_type": "code",
   "execution_count": 13,
   "metadata": {},
   "outputs": [],
   "source": [
    "# Removing all columns that are not text-based\n",
    "zone.drop(['num_comments','timestamp'], axis=1, inplace=True)"
   ]
  },
  {
   "cell_type": "code",
   "execution_count": 14,
   "metadata": {},
   "outputs": [],
   "source": [
    "comics.drop(['num_comments','timestamp'], axis=1, inplace=True)"
   ]
  },
  {
   "cell_type": "code",
   "execution_count": 15,
   "metadata": {},
   "outputs": [
    {
     "data": {
      "text/plain": [
       "selftext     0\n",
       "author       0\n",
       "title        0\n",
       "subreddit    0\n",
       "dtype: int64"
      ]
     },
     "execution_count": 15,
     "metadata": {},
     "output_type": "execute_result"
    }
   ],
   "source": [
    "# Checking for null values in each dataframe \n",
    "comics.isna().sum()"
   ]
  },
  {
   "cell_type": "code",
   "execution_count": 16,
   "metadata": {},
   "outputs": [
    {
     "data": {
      "text/plain": [
       "selftext     0\n",
       "author       0\n",
       "title        0\n",
       "subreddit    0\n",
       "dtype: int64"
      ]
     },
     "execution_count": 16,
     "metadata": {},
     "output_type": "execute_result"
    }
   ],
   "source": [
    "zone.isna().sum()"
   ]
  },
  {
   "cell_type": "code",
   "execution_count": 17,
   "metadata": {},
   "outputs": [
    {
     "data": {
      "text/html": [
       "<div>\n",
       "<style scoped>\n",
       "    .dataframe tbody tr th:only-of-type {\n",
       "        vertical-align: middle;\n",
       "    }\n",
       "\n",
       "    .dataframe tbody tr th {\n",
       "        vertical-align: top;\n",
       "    }\n",
       "\n",
       "    .dataframe thead th {\n",
       "        text-align: right;\n",
       "    }\n",
       "</style>\n",
       "<table border=\"1\" class=\"dataframe\">\n",
       "  <thead>\n",
       "    <tr style=\"text-align: right;\">\n",
       "      <th></th>\n",
       "      <th>selftext</th>\n",
       "      <th>author</th>\n",
       "      <th>title</th>\n",
       "      <th>subreddit</th>\n",
       "    </tr>\n",
       "  </thead>\n",
       "  <tbody>\n",
       "    <tr>\n",
       "      <td>0</td>\n",
       "      <td>I feel like comic colorists don't get enough love, so let me know who your favorite colorists are. I'm looking for inspiration!</td>\n",
       "      <td>avidya1997</td>\n",
       "      <td>Who is your favorite comicbook colorist?</td>\n",
       "      <td>comicbooks</td>\n",
       "    </tr>\n",
       "    <tr>\n",
       "      <td>1</td>\n",
       "      <td>What I mean is, outside those covers we know are instantly iconic (an example would be like Frank Miller’s Dark Knight Returns covers).\\n\\nMy personal favorites are both the standard and variant covers for Judas by Jeff Loveness. They’re stunning and invoke such a distinct emotion in regards to the story he’s telling.\\n\\nI’m trying to come up with ideas for a cover for the comic I’m writing and I’m hitting a wall creatively.\\n\\nThanks!</td>\n",
       "      <td>writingsupplies</td>\n",
       "      <td>What Are Your Favorite Covers (that aren’t iconic)?</td>\n",
       "      <td>comicbooks</td>\n",
       "    </tr>\n",
       "  </tbody>\n",
       "</table>\n",
       "</div>"
      ],
      "text/plain": [
       "                                                                                                                                                                                                                                                                                                                                                                                                                                                  selftext  \\\n",
       "0  I feel like comic colorists don't get enough love, so let me know who your favorite colorists are. I'm looking for inspiration!                                                                                                                                                                                                                                                                                                                           \n",
       "1  What I mean is, outside those covers we know are instantly iconic (an example would be like Frank Miller’s Dark Knight Returns covers).\\n\\nMy personal favorites are both the standard and variant covers for Judas by Jeff Loveness. They’re stunning and invoke such a distinct emotion in regards to the story he’s telling.\\n\\nI’m trying to come up with ideas for a cover for the comic I’m writing and I’m hitting a wall creatively.\\n\\nThanks!   \n",
       "\n",
       "            author                                                title  \\\n",
       "0  avidya1997       Who is your favorite comicbook colorist?              \n",
       "1  writingsupplies  What Are Your Favorite Covers (that aren’t iconic)?   \n",
       "\n",
       "    subreddit  \n",
       "0  comicbooks  \n",
       "1  comicbooks  "
      ]
     },
     "execution_count": 17,
     "metadata": {},
     "output_type": "execute_result"
    }
   ],
   "source": [
    "comics.head(2)"
   ]
  },
  {
   "cell_type": "code",
   "execution_count": 18,
   "metadata": {},
   "outputs": [
    {
     "data": {
      "text/html": [
       "<div>\n",
       "<style scoped>\n",
       "    .dataframe tbody tr th:only-of-type {\n",
       "        vertical-align: middle;\n",
       "    }\n",
       "\n",
       "    .dataframe tbody tr th {\n",
       "        vertical-align: top;\n",
       "    }\n",
       "\n",
       "    .dataframe thead th {\n",
       "        text-align: right;\n",
       "    }\n",
       "</style>\n",
       "<table border=\"1\" class=\"dataframe\">\n",
       "  <thead>\n",
       "    <tr style=\"text-align: right;\">\n",
       "      <th></th>\n",
       "      <th>selftext</th>\n",
       "      <th>author</th>\n",
       "      <th>title</th>\n",
       "      <th>subreddit</th>\n",
       "    </tr>\n",
       "  </thead>\n",
       "  <tbody>\n",
       "    <tr>\n",
       "      <td>0</td>\n",
       "      <td>I'm a big fan of the Twilight Zone, I have the complete series on DVD I've seen every episode.\\n\\nRecently, someone told me about an episode of the Alfred Hitchcock Hour called The Jar, which they thought was an episode of the Twilight Zone.\\n\\nI watched it tonight, it's the first and only episode of the show I've seen.  I somewhat enjoyed it, although it seemed a little \"darker\" than the Twilight Zone, and less \"sci-fi\" focused. I'm not sure if I should try to watch more episodes or not.  Maybe I just chose the wrong episode to start with.\\n\\nHow does the show compare to the Twilight Zone overall?  Are there good episodes that any Twilight Zone fan would enjoy?</td>\n",
       "      <td>GAMESHARQ</td>\n",
       "      <td>Twilight Zone fans, what's your opinion on the Alfred Hitchcock Hour?</td>\n",
       "      <td>TwilightZone</td>\n",
       "    </tr>\n",
       "    <tr>\n",
       "      <td>1</td>\n",
       "      <td>********SPOILERS AHEAD********\\n\\n\\nJust wanted to warn anyone before reading all this, that there are spoilers in here for those who haven't see this episode yet. \\n\\n\\nNow, on with the show!!\\n\\n\\nOK, so let's first talk about the number 14. The number 14 is mentioned a total of 3 times throughout this episode. First, when the driver says \"Mister, that's a 14 year old bus, and business is lousy\". Not only that, but before he says this, he says \"What do you think I got parked out there, a 707?\" What is 7 + 0 + 7? **14**!!\\n\\nThe second time 14 is mentioned, the alien behind the counter says \"Nothin's come in here for 14 hours\". \\n\\nThe third mention of the number 14 is when the bus riders are checking out at the diner counter. The alien behind the counter says that the first alien had \"14 cups of coffee\". Damn, that's a lot of coffee...\\n\\n\\nOK, so how many times is the number 14 mentioned? 3 times. How many arms did the first alien have? 3. How many eyes did the other alien have? 3. \\n\\nKeep that in mind - \\n\\nNow let's talk about the title of this episode - \"Will the real martian please stand up?\". Well, actually, let's hold off on that one, for just a second. \\n\\nLet's talk about the officers. How many were there? 2. How many aliens were there? 2. Now, let's multiply 14 by 2 to get 28. Now, let's add 3 to that number (3 for how many arms/eyes the aliens had, and how many times 14 was mentioned), and what do you get? 31. \\n\\nNow, how many letters are in the title of this episode? **31!!** \\n\\nPhew... man, I'm tired from all that math... \\n\\n\\nBut wait, there's more! \\n\\nHow many times was 14 mentioned? 3. How many arms did the first alien have? 3. How many eyes did the second alien have? 3. Add those together, and you get 9. What time did the first alien say his meeting was in Boston? **9AM!!!** \\n\\nOkay, okay. I'm reaching with some of these, but I sat there last night re-watching this episode, and I couldn't get all these damn numbers out of my head. \\n\\nIf you made it this far, I commend you. I doubt any of this means anything, but I found it interesting, nonetheless. \\n\\nCheers!</td>\n",
       "      <td>Pockets_The_Paladin</td>\n",
       "      <td>\"Will the real martian please stand up?\" is one giant numbers game...</td>\n",
       "      <td>TwilightZone</td>\n",
       "    </tr>\n",
       "  </tbody>\n",
       "</table>\n",
       "</div>"
      ],
      "text/plain": [
       "                                                                                                                                                                                                                                                                                                                                                                                                                                                                                                                                                                                                                                                                                                                                                                                                                                                                                                                                                                                                                                                                                                                                                                                                                                                                                                                                                                                                                                                                                                                                                                                                                                                                                                                                                                                                                                                                                                                                                                                                                                                                                                                                                                                                     selftext  \\\n",
       "0  I'm a big fan of the Twilight Zone, I have the complete series on DVD I've seen every episode.\\n\\nRecently, someone told me about an episode of the Alfred Hitchcock Hour called The Jar, which they thought was an episode of the Twilight Zone.\\n\\nI watched it tonight, it's the first and only episode of the show I've seen.  I somewhat enjoyed it, although it seemed a little \"darker\" than the Twilight Zone, and less \"sci-fi\" focused. I'm not sure if I should try to watch more episodes or not.  Maybe I just chose the wrong episode to start with.\\n\\nHow does the show compare to the Twilight Zone overall?  Are there good episodes that any Twilight Zone fan would enjoy?                                                                                                                                                                                                                                                                                                                                                                                                                                                                                                                                                                                                                                                                                                                                                                                                                                                                                                                                                                                                                                                                                                                                                                                                                                                                                                                                                                                                                                                                                                               \n",
       "1  ********SPOILERS AHEAD********\\n\\n\\nJust wanted to warn anyone before reading all this, that there are spoilers in here for those who haven't see this episode yet. \\n\\n\\nNow, on with the show!!\\n\\n\\nOK, so let's first talk about the number 14. The number 14 is mentioned a total of 3 times throughout this episode. First, when the driver says \"Mister, that's a 14 year old bus, and business is lousy\". Not only that, but before he says this, he says \"What do you think I got parked out there, a 707?\" What is 7 + 0 + 7? **14**!!\\n\\nThe second time 14 is mentioned, the alien behind the counter says \"Nothin's come in here for 14 hours\". \\n\\nThe third mention of the number 14 is when the bus riders are checking out at the diner counter. The alien behind the counter says that the first alien had \"14 cups of coffee\". Damn, that's a lot of coffee...\\n\\n\\nOK, so how many times is the number 14 mentioned? 3 times. How many arms did the first alien have? 3. How many eyes did the other alien have? 3. \\n\\nKeep that in mind - \\n\\nNow let's talk about the title of this episode - \"Will the real martian please stand up?\". Well, actually, let's hold off on that one, for just a second. \\n\\nLet's talk about the officers. How many were there? 2. How many aliens were there? 2. Now, let's multiply 14 by 2 to get 28. Now, let's add 3 to that number (3 for how many arms/eyes the aliens had, and how many times 14 was mentioned), and what do you get? 31. \\n\\nNow, how many letters are in the title of this episode? **31!!** \\n\\nPhew... man, I'm tired from all that math... \\n\\n\\nBut wait, there's more! \\n\\nHow many times was 14 mentioned? 3. How many arms did the first alien have? 3. How many eyes did the second alien have? 3. Add those together, and you get 9. What time did the first alien say his meeting was in Boston? **9AM!!!** \\n\\nOkay, okay. I'm reaching with some of these, but I sat there last night re-watching this episode, and I couldn't get all these damn numbers out of my head. \\n\\nIf you made it this far, I commend you. I doubt any of this means anything, but I found it interesting, nonetheless. \\n\\nCheers!   \n",
       "\n",
       "                author  \\\n",
       "0  GAMESHARQ             \n",
       "1  Pockets_The_Paladin   \n",
       "\n",
       "                                                                   title  \\\n",
       "0  Twilight Zone fans, what's your opinion on the Alfred Hitchcock Hour?   \n",
       "1  \"Will the real martian please stand up?\" is one giant numbers game...   \n",
       "\n",
       "      subreddit  \n",
       "0  TwilightZone  \n",
       "1  TwilightZone  "
      ]
     },
     "execution_count": 18,
     "metadata": {},
     "output_type": "execute_result"
    }
   ],
   "source": [
    "zone.head(2)"
   ]
  },
  {
   "cell_type": "markdown",
   "metadata": {},
   "source": [
    "### Lemmatizing Text Columns \n",
    "Need to preprocess and create a new 'combined_text' column for our combined dataframe, comics_zone. Kept dataframes separate to avoid confusion before concatenation. "
   ]
  },
  {
   "cell_type": "code",
   "execution_count": 19,
   "metadata": {},
   "outputs": [],
   "source": [
    "# setting up tokenizer and lemmatizer\n",
    "tokenizer = RegexpTokenizer(r'\\w+')\n",
    "lemmatizer = WordNetLemmatizer()"
   ]
  },
  {
   "cell_type": "code",
   "execution_count": 20,
   "metadata": {},
   "outputs": [],
   "source": [
    "# function to lemmatize (with help from Kate Dowdy)\n",
    "def lemma(text):\n",
    "    tokens = tokenizer.tokenize(str(text))\n",
    "    lems = [lemmatizer.lemmatize(i) for i in tokens]\n",
    "    \n",
    "    return(\" \".join(lems))"
   ]
  },
  {
   "cell_type": "code",
   "execution_count": 21,
   "metadata": {},
   "outputs": [],
   "source": [
    "# create a column for lemmatized words \n",
    "zone['lems'] = zone['selftext'].apply(lambda x: lemma(x))"
   ]
  },
  {
   "cell_type": "code",
   "execution_count": 22,
   "metadata": {},
   "outputs": [],
   "source": [
    "zone['title_lems'] = zone['title'].apply(lambda x: lemma(x))"
   ]
  },
  {
   "cell_type": "code",
   "execution_count": 23,
   "metadata": {},
   "outputs": [],
   "source": [
    "# create a column for lemmatized words \n",
    "comics['lems'] = comics['selftext'].apply(lambda x: lemma(x))"
   ]
  },
  {
   "cell_type": "code",
   "execution_count": 24,
   "metadata": {},
   "outputs": [],
   "source": [
    "comics['title_lems'] = comics['title'].apply(lambda x: lemma(x))"
   ]
  },
  {
   "cell_type": "code",
   "execution_count": 25,
   "metadata": {},
   "outputs": [],
   "source": [
    "# function to remove hanging contraction leftovers (given to me by Kate Dowdy)\n",
    "def nocontract(x):\n",
    "    x = re.sub(\"([ ][r][e][ ])\", \" \", x)\n",
    "    x = re.sub(\"([ ][v][e][ ])\", \" \", x)\n",
    "    x = re.sub(\"([ ][l][l][ ])\", \" \", x)\n",
    "    x = re.sub(\"([ ][d][ ])\", \" \", x)\n",
    "    x = re.sub(\"([ ][t][ ])\", \" \", x)\n",
    "    x = re.sub(\"([ ][m][ ])\", \" \", x)\n",
    "    x = re.sub(\"([ ][s][ ])\", \" \", x)\n",
    "    return x"
   ]
  },
  {
   "cell_type": "code",
   "execution_count": 26,
   "metadata": {},
   "outputs": [],
   "source": [
    "# applying no contractions function to both dataframes\n",
    "zone['lems'] = zone['lems'].apply(lambda x: nocontract(x))\n",
    "zone['title_lems'] = zone['title_lems'].apply(lambda x: nocontract(x))\n",
    "comics['lems'] = comics['lems'].apply(lambda x: nocontract(x))\n",
    "comics['title_lems'] = comics['title_lems'].apply(lambda x: nocontract(x))"
   ]
  },
  {
   "cell_type": "code",
   "execution_count": 27,
   "metadata": {},
   "outputs": [
    {
     "data": {
      "text/html": [
       "<div>\n",
       "<style scoped>\n",
       "    .dataframe tbody tr th:only-of-type {\n",
       "        vertical-align: middle;\n",
       "    }\n",
       "\n",
       "    .dataframe tbody tr th {\n",
       "        vertical-align: top;\n",
       "    }\n",
       "\n",
       "    .dataframe thead th {\n",
       "        text-align: right;\n",
       "    }\n",
       "</style>\n",
       "<table border=\"1\" class=\"dataframe\">\n",
       "  <thead>\n",
       "    <tr style=\"text-align: right;\">\n",
       "      <th></th>\n",
       "      <th>selftext</th>\n",
       "      <th>author</th>\n",
       "      <th>title</th>\n",
       "      <th>subreddit</th>\n",
       "      <th>lems</th>\n",
       "      <th>title_lems</th>\n",
       "    </tr>\n",
       "  </thead>\n",
       "  <tbody>\n",
       "    <tr>\n",
       "      <td>0</td>\n",
       "      <td>I'm a big fan of the Twilight Zone, I have the complete series on DVD I've seen every episode.\\n\\nRecently, someone told me about an episode of the Alfred Hitchcock Hour called The Jar, which they thought was an episode of the Twilight Zone.\\n\\nI watched it tonight, it's the first and only episode of the show I've seen.  I somewhat enjoyed it, although it seemed a little \"darker\" than the Twilight Zone, and less \"sci-fi\" focused. I'm not sure if I should try to watch more episodes or not.  Maybe I just chose the wrong episode to start with.\\n\\nHow does the show compare to the Twilight Zone overall?  Are there good episodes that any Twilight Zone fan would enjoy?</td>\n",
       "      <td>GAMESHARQ</td>\n",
       "      <td>Twilight Zone fans, what's your opinion on the Alfred Hitchcock Hour?</td>\n",
       "      <td>TwilightZone</td>\n",
       "      <td>I a big fan of the Twilight Zone I have the complete series on DVD I seen every episode Recently someone told me about an episode of the Alfred Hitchcock Hour called The Jar which they thought wa an episode of the Twilight Zone I watched it tonight it the first and only episode of the show I seen I somewhat enjoyed it although it seemed a little darker than the Twilight Zone and le sci fi focused I not sure if I should try to watch more episode or not Maybe I just chose the wrong episode to start with How doe the show compare to the Twilight Zone overall Are there good episode that any Twilight Zone fan would enjoy</td>\n",
       "      <td>Twilight Zone fan what your opinion on the Alfred Hitchcock Hour</td>\n",
       "    </tr>\n",
       "    <tr>\n",
       "      <td>1</td>\n",
       "      <td>********SPOILERS AHEAD********\\n\\n\\nJust wanted to warn anyone before reading all this, that there are spoilers in here for those who haven't see this episode yet. \\n\\n\\nNow, on with the show!!\\n\\n\\nOK, so let's first talk about the number 14. The number 14 is mentioned a total of 3 times throughout this episode. First, when the driver says \"Mister, that's a 14 year old bus, and business is lousy\". Not only that, but before he says this, he says \"What do you think I got parked out there, a 707?\" What is 7 + 0 + 7? **14**!!\\n\\nThe second time 14 is mentioned, the alien behind the counter says \"Nothin's come in here for 14 hours\". \\n\\nThe third mention of the number 14 is when the bus riders are checking out at the diner counter. The alien behind the counter says that the first alien had \"14 cups of coffee\". Damn, that's a lot of coffee...\\n\\n\\nOK, so how many times is the number 14 mentioned? 3 times. How many arms did the first alien have? 3. How many eyes did the other alien have? 3. \\n\\nKeep that in mind - \\n\\nNow let's talk about the title of this episode - \"Will the real martian please stand up?\". Well, actually, let's hold off on that one, for just a second. \\n\\nLet's talk about the officers. How many were there? 2. How many aliens were there? 2. Now, let's multiply 14 by 2 to get 28. Now, let's add 3 to that number (3 for how many arms/eyes the aliens had, and how many times 14 was mentioned), and what do you get? 31. \\n\\nNow, how many letters are in the title of this episode? **31!!** \\n\\nPhew... man, I'm tired from all that math... \\n\\n\\nBut wait, there's more! \\n\\nHow many times was 14 mentioned? 3. How many arms did the first alien have? 3. How many eyes did the second alien have? 3. Add those together, and you get 9. What time did the first alien say his meeting was in Boston? **9AM!!!** \\n\\nOkay, okay. I'm reaching with some of these, but I sat there last night re-watching this episode, and I couldn't get all these damn numbers out of my head. \\n\\nIf you made it this far, I commend you. I doubt any of this means anything, but I found it interesting, nonetheless. \\n\\nCheers!</td>\n",
       "      <td>Pockets_The_Paladin</td>\n",
       "      <td>\"Will the real martian please stand up?\" is one giant numbers game...</td>\n",
       "      <td>TwilightZone</td>\n",
       "      <td>SPOILERS AHEAD Just wanted to warn anyone before reading all this that there are spoiler in here for those who haven see this episode yet Now on with the show OK so let first talk about the number 14 The number 14 is mentioned a total of 3 time throughout this episode First when the driver say Mister that a 14 year old bus and business is lousy Not only that but before he say this he say What do you think I got parked out there a 707 What is 7 0 7 14 The second time 14 is mentioned the alien behind the counter say Nothin come in here for 14 hour The third mention of the number 14 is when the bus rider are checking out at the diner counter The alien behind the counter say that the first alien had 14 cup of coffee Damn that a lot of coffee OK so how many time is the number 14 mentioned 3 time How many arm did the first alien have 3 How many eye did the other alien have 3 Keep that in mind Now let talk about the title of this episode Will the real martian please stand up Well actually let hold off on that one for just a second Let talk about the officer How many were there 2 How many alien were there 2 Now let multiply 14 by 2 to get 28 Now let add 3 to that number 3 for how many arm eye the alien had and how many time 14 wa mentioned and what do you get 31 Now how many letter are in the title of this episode 31 Phew man I tired from all that math But wait there more How many time wa 14 mentioned 3 How many arm did the first alien have 3 How many eye did the second alien have 3 Add those together and you get 9 What time did the first alien say his meeting wa in Boston 9AM Okay okay I reaching with some of these but I sat there last night watching this episode and I couldn get all these damn number out of my head If you made it this far I commend you I doubt any of this mean anything but I found it interesting nonetheless Cheers</td>\n",
       "      <td>Will the real martian please stand up is one giant number game</td>\n",
       "    </tr>\n",
       "  </tbody>\n",
       "</table>\n",
       "</div>"
      ],
      "text/plain": [
       "                                                                                                                                                                                                                                                                                                                                                                                                                                                                                                                                                                                                                                                                                                                                                                                                                                                                                                                                                                                                                                                                                                                                                                                                                                                                                                                                                                                                                                                                                                                                                                                                                                                                                                                                                                                                                                                                                                                                                                                                                                                                                                                                                                                                     selftext  \\\n",
       "0  I'm a big fan of the Twilight Zone, I have the complete series on DVD I've seen every episode.\\n\\nRecently, someone told me about an episode of the Alfred Hitchcock Hour called The Jar, which they thought was an episode of the Twilight Zone.\\n\\nI watched it tonight, it's the first and only episode of the show I've seen.  I somewhat enjoyed it, although it seemed a little \"darker\" than the Twilight Zone, and less \"sci-fi\" focused. I'm not sure if I should try to watch more episodes or not.  Maybe I just chose the wrong episode to start with.\\n\\nHow does the show compare to the Twilight Zone overall?  Are there good episodes that any Twilight Zone fan would enjoy?                                                                                                                                                                                                                                                                                                                                                                                                                                                                                                                                                                                                                                                                                                                                                                                                                                                                                                                                                                                                                                                                                                                                                                                                                                                                                                                                                                                                                                                                                                               \n",
       "1  ********SPOILERS AHEAD********\\n\\n\\nJust wanted to warn anyone before reading all this, that there are spoilers in here for those who haven't see this episode yet. \\n\\n\\nNow, on with the show!!\\n\\n\\nOK, so let's first talk about the number 14. The number 14 is mentioned a total of 3 times throughout this episode. First, when the driver says \"Mister, that's a 14 year old bus, and business is lousy\". Not only that, but before he says this, he says \"What do you think I got parked out there, a 707?\" What is 7 + 0 + 7? **14**!!\\n\\nThe second time 14 is mentioned, the alien behind the counter says \"Nothin's come in here for 14 hours\". \\n\\nThe third mention of the number 14 is when the bus riders are checking out at the diner counter. The alien behind the counter says that the first alien had \"14 cups of coffee\". Damn, that's a lot of coffee...\\n\\n\\nOK, so how many times is the number 14 mentioned? 3 times. How many arms did the first alien have? 3. How many eyes did the other alien have? 3. \\n\\nKeep that in mind - \\n\\nNow let's talk about the title of this episode - \"Will the real martian please stand up?\". Well, actually, let's hold off on that one, for just a second. \\n\\nLet's talk about the officers. How many were there? 2. How many aliens were there? 2. Now, let's multiply 14 by 2 to get 28. Now, let's add 3 to that number (3 for how many arms/eyes the aliens had, and how many times 14 was mentioned), and what do you get? 31. \\n\\nNow, how many letters are in the title of this episode? **31!!** \\n\\nPhew... man, I'm tired from all that math... \\n\\n\\nBut wait, there's more! \\n\\nHow many times was 14 mentioned? 3. How many arms did the first alien have? 3. How many eyes did the second alien have? 3. Add those together, and you get 9. What time did the first alien say his meeting was in Boston? **9AM!!!** \\n\\nOkay, okay. I'm reaching with some of these, but I sat there last night re-watching this episode, and I couldn't get all these damn numbers out of my head. \\n\\nIf you made it this far, I commend you. I doubt any of this means anything, but I found it interesting, nonetheless. \\n\\nCheers!   \n",
       "\n",
       "                author  \\\n",
       "0  GAMESHARQ             \n",
       "1  Pockets_The_Paladin   \n",
       "\n",
       "                                                                   title  \\\n",
       "0  Twilight Zone fans, what's your opinion on the Alfred Hitchcock Hour?   \n",
       "1  \"Will the real martian please stand up?\" is one giant numbers game...   \n",
       "\n",
       "      subreddit  \\\n",
       "0  TwilightZone   \n",
       "1  TwilightZone   \n",
       "\n",
       "                                                                                                                                                                                                                                                                                                                                                                                                                                                                                                                                                                                                                                                                                                                                                                                                                                                                                                                                                                                                                                                                                                                                                                                                                                                                                                                                                                                                                                                                                                                                                                                                                                                                                                                                                                                                                                                                                                                               lems  \\\n",
       "0  I a big fan of the Twilight Zone I have the complete series on DVD I seen every episode Recently someone told me about an episode of the Alfred Hitchcock Hour called The Jar which they thought wa an episode of the Twilight Zone I watched it tonight it the first and only episode of the show I seen I somewhat enjoyed it although it seemed a little darker than the Twilight Zone and le sci fi focused I not sure if I should try to watch more episode or not Maybe I just chose the wrong episode to start with How doe the show compare to the Twilight Zone overall Are there good episode that any Twilight Zone fan would enjoy                                                                                                                                                                                                                                                                                                                                                                                                                                                                                                                                                                                                                                                                                                                                                                                                                                                                                                                                                                                                                                                                                                                                                                                                                                                                                     \n",
       "1  SPOILERS AHEAD Just wanted to warn anyone before reading all this that there are spoiler in here for those who haven see this episode yet Now on with the show OK so let first talk about the number 14 The number 14 is mentioned a total of 3 time throughout this episode First when the driver say Mister that a 14 year old bus and business is lousy Not only that but before he say this he say What do you think I got parked out there a 707 What is 7 0 7 14 The second time 14 is mentioned the alien behind the counter say Nothin come in here for 14 hour The third mention of the number 14 is when the bus rider are checking out at the diner counter The alien behind the counter say that the first alien had 14 cup of coffee Damn that a lot of coffee OK so how many time is the number 14 mentioned 3 time How many arm did the first alien have 3 How many eye did the other alien have 3 Keep that in mind Now let talk about the title of this episode Will the real martian please stand up Well actually let hold off on that one for just a second Let talk about the officer How many were there 2 How many alien were there 2 Now let multiply 14 by 2 to get 28 Now let add 3 to that number 3 for how many arm eye the alien had and how many time 14 wa mentioned and what do you get 31 Now how many letter are in the title of this episode 31 Phew man I tired from all that math But wait there more How many time wa 14 mentioned 3 How many arm did the first alien have 3 How many eye did the second alien have 3 Add those together and you get 9 What time did the first alien say his meeting wa in Boston 9AM Okay okay I reaching with some of these but I sat there last night watching this episode and I couldn get all these damn number out of my head If you made it this far I commend you I doubt any of this mean anything but I found it interesting nonetheless Cheers   \n",
       "\n",
       "                                                         title_lems  \n",
       "0  Twilight Zone fan what your opinion on the Alfred Hitchcock Hour  \n",
       "1  Will the real martian please stand up is one giant number game    "
      ]
     },
     "execution_count": 27,
     "metadata": {},
     "output_type": "execute_result"
    }
   ],
   "source": [
    "zone.head(2)"
   ]
  },
  {
   "cell_type": "code",
   "execution_count": 28,
   "metadata": {
    "scrolled": true
   },
   "outputs": [
    {
     "data": {
      "text/html": [
       "<div>\n",
       "<style scoped>\n",
       "    .dataframe tbody tr th:only-of-type {\n",
       "        vertical-align: middle;\n",
       "    }\n",
       "\n",
       "    .dataframe tbody tr th {\n",
       "        vertical-align: top;\n",
       "    }\n",
       "\n",
       "    .dataframe thead th {\n",
       "        text-align: right;\n",
       "    }\n",
       "</style>\n",
       "<table border=\"1\" class=\"dataframe\">\n",
       "  <thead>\n",
       "    <tr style=\"text-align: right;\">\n",
       "      <th></th>\n",
       "      <th>selftext</th>\n",
       "      <th>author</th>\n",
       "      <th>title</th>\n",
       "      <th>subreddit</th>\n",
       "      <th>lems</th>\n",
       "      <th>title_lems</th>\n",
       "    </tr>\n",
       "  </thead>\n",
       "  <tbody>\n",
       "    <tr>\n",
       "      <td>0</td>\n",
       "      <td>I feel like comic colorists don't get enough love, so let me know who your favorite colorists are. I'm looking for inspiration!</td>\n",
       "      <td>avidya1997</td>\n",
       "      <td>Who is your favorite comicbook colorist?</td>\n",
       "      <td>comicbooks</td>\n",
       "      <td>I feel like comic colorist don get enough love so let me know who your favorite colorist are I looking for inspiration</td>\n",
       "      <td>Who is your favorite comicbook colorist</td>\n",
       "    </tr>\n",
       "  </tbody>\n",
       "</table>\n",
       "</div>"
      ],
      "text/plain": [
       "                                                                                                                          selftext  \\\n",
       "0  I feel like comic colorists don't get enough love, so let me know who your favorite colorists are. I'm looking for inspiration!   \n",
       "\n",
       "       author                                     title   subreddit  \\\n",
       "0  avidya1997  Who is your favorite comicbook colorist?  comicbooks   \n",
       "\n",
       "                                                                                                                     lems  \\\n",
       "0  I feel like comic colorist don get enough love so let me know who your favorite colorist are I looking for inspiration   \n",
       "\n",
       "                                title_lems  \n",
       "0  Who is your favorite comicbook colorist  "
      ]
     },
     "execution_count": 28,
     "metadata": {},
     "output_type": "execute_result"
    }
   ],
   "source": [
    "comics.head(1)"
   ]
  },
  {
   "cell_type": "code",
   "execution_count": 29,
   "metadata": {},
   "outputs": [],
   "source": [
    "# Dropping vestigal unprocessed text columns\n",
    "zone.drop(columns=['selftext', 'title'], inplace=True)\n",
    "comics.drop(columns=['selftext', 'title'], inplace=True)"
   ]
  },
  {
   "cell_type": "code",
   "execution_count": 30,
   "metadata": {},
   "outputs": [
    {
     "data": {
      "text/html": [
       "<div>\n",
       "<style scoped>\n",
       "    .dataframe tbody tr th:only-of-type {\n",
       "        vertical-align: middle;\n",
       "    }\n",
       "\n",
       "    .dataframe tbody tr th {\n",
       "        vertical-align: top;\n",
       "    }\n",
       "\n",
       "    .dataframe thead th {\n",
       "        text-align: right;\n",
       "    }\n",
       "</style>\n",
       "<table border=\"1\" class=\"dataframe\">\n",
       "  <thead>\n",
       "    <tr style=\"text-align: right;\">\n",
       "      <th></th>\n",
       "      <th>author</th>\n",
       "      <th>subreddit</th>\n",
       "      <th>lems</th>\n",
       "      <th>title_lems</th>\n",
       "    </tr>\n",
       "  </thead>\n",
       "  <tbody>\n",
       "    <tr>\n",
       "      <td>0</td>\n",
       "      <td>avidya1997</td>\n",
       "      <td>comicbooks</td>\n",
       "      <td>I feel like comic colorist don get enough love so let me know who your favorite colorist are I looking for inspiration</td>\n",
       "      <td>Who is your favorite comicbook colorist</td>\n",
       "    </tr>\n",
       "    <tr>\n",
       "      <td>1</td>\n",
       "      <td>writingsupplies</td>\n",
       "      <td>comicbooks</td>\n",
       "      <td>What I mean is outside those cover we know are instantly iconic an example would be like Frank Miller Dark Knight Returns cover My personal favorite are both the standard and variant cover for Judas by Jeff Loveness They stunning and invoke such a distinct emotion in regard to the story he telling I trying to come up with idea for a cover for the comic I writing and I hitting a wall creatively Thanks</td>\n",
       "      <td>What Are Your Favorite Covers that aren iconic</td>\n",
       "    </tr>\n",
       "  </tbody>\n",
       "</table>\n",
       "</div>"
      ],
      "text/plain": [
       "            author   subreddit  \\\n",
       "0  avidya1997       comicbooks   \n",
       "1  writingsupplies  comicbooks   \n",
       "\n",
       "                                                                                                                                                                                                                                                                                                                                                                                                                  lems  \\\n",
       "0  I feel like comic colorist don get enough love so let me know who your favorite colorist are I looking for inspiration                                                                                                                                                                                                                                                                                                \n",
       "1  What I mean is outside those cover we know are instantly iconic an example would be like Frank Miller Dark Knight Returns cover My personal favorite are both the standard and variant cover for Judas by Jeff Loveness They stunning and invoke such a distinct emotion in regard to the story he telling I trying to come up with idea for a cover for the comic I writing and I hitting a wall creatively Thanks   \n",
       "\n",
       "                                       title_lems  \n",
       "0  Who is your favorite comicbook colorist         \n",
       "1  What Are Your Favorite Covers that aren iconic  "
      ]
     },
     "execution_count": 30,
     "metadata": {},
     "output_type": "execute_result"
    }
   ],
   "source": [
    "comics.head(2)"
   ]
  },
  {
   "cell_type": "code",
   "execution_count": 31,
   "metadata": {},
   "outputs": [
    {
     "data": {
      "text/html": [
       "<div>\n",
       "<style scoped>\n",
       "    .dataframe tbody tr th:only-of-type {\n",
       "        vertical-align: middle;\n",
       "    }\n",
       "\n",
       "    .dataframe tbody tr th {\n",
       "        vertical-align: top;\n",
       "    }\n",
       "\n",
       "    .dataframe thead th {\n",
       "        text-align: right;\n",
       "    }\n",
       "</style>\n",
       "<table border=\"1\" class=\"dataframe\">\n",
       "  <thead>\n",
       "    <tr style=\"text-align: right;\">\n",
       "      <th></th>\n",
       "      <th>author</th>\n",
       "      <th>subreddit</th>\n",
       "      <th>lems</th>\n",
       "      <th>title_lems</th>\n",
       "    </tr>\n",
       "  </thead>\n",
       "  <tbody>\n",
       "    <tr>\n",
       "      <td>0</td>\n",
       "      <td>GAMESHARQ</td>\n",
       "      <td>TwilightZone</td>\n",
       "      <td>I a big fan of the Twilight Zone I have the complete series on DVD I seen every episode Recently someone told me about an episode of the Alfred Hitchcock Hour called The Jar which they thought wa an episode of the Twilight Zone I watched it tonight it the first and only episode of the show I seen I somewhat enjoyed it although it seemed a little darker than the Twilight Zone and le sci fi focused I not sure if I should try to watch more episode or not Maybe I just chose the wrong episode to start with How doe the show compare to the Twilight Zone overall Are there good episode that any Twilight Zone fan would enjoy</td>\n",
       "      <td>Twilight Zone fan what your opinion on the Alfred Hitchcock Hour</td>\n",
       "    </tr>\n",
       "    <tr>\n",
       "      <td>1</td>\n",
       "      <td>Pockets_The_Paladin</td>\n",
       "      <td>TwilightZone</td>\n",
       "      <td>SPOILERS AHEAD Just wanted to warn anyone before reading all this that there are spoiler in here for those who haven see this episode yet Now on with the show OK so let first talk about the number 14 The number 14 is mentioned a total of 3 time throughout this episode First when the driver say Mister that a 14 year old bus and business is lousy Not only that but before he say this he say What do you think I got parked out there a 707 What is 7 0 7 14 The second time 14 is mentioned the alien behind the counter say Nothin come in here for 14 hour The third mention of the number 14 is when the bus rider are checking out at the diner counter The alien behind the counter say that the first alien had 14 cup of coffee Damn that a lot of coffee OK so how many time is the number 14 mentioned 3 time How many arm did the first alien have 3 How many eye did the other alien have 3 Keep that in mind Now let talk about the title of this episode Will the real martian please stand up Well actually let hold off on that one for just a second Let talk about the officer How many were there 2 How many alien were there 2 Now let multiply 14 by 2 to get 28 Now let add 3 to that number 3 for how many arm eye the alien had and how many time 14 wa mentioned and what do you get 31 Now how many letter are in the title of this episode 31 Phew man I tired from all that math But wait there more How many time wa 14 mentioned 3 How many arm did the first alien have 3 How many eye did the second alien have 3 Add those together and you get 9 What time did the first alien say his meeting wa in Boston 9AM Okay okay I reaching with some of these but I sat there last night watching this episode and I couldn get all these damn number out of my head If you made it this far I commend you I doubt any of this mean anything but I found it interesting nonetheless Cheers</td>\n",
       "      <td>Will the real martian please stand up is one giant number game</td>\n",
       "    </tr>\n",
       "  </tbody>\n",
       "</table>\n",
       "</div>"
      ],
      "text/plain": [
       "                author     subreddit  \\\n",
       "0  GAMESHARQ            TwilightZone   \n",
       "1  Pockets_The_Paladin  TwilightZone   \n",
       "\n",
       "                                                                                                                                                                                                                                                                                                                                                                                                                                                                                                                                                                                                                                                                                                                                                                                                                                                                                                                                                                                                                                                                                                                                                                                                                                                                                                                                                                                                                                                                                                                                                                                                                                                                                                                                                                                                                                                                                                                               lems  \\\n",
       "0  I a big fan of the Twilight Zone I have the complete series on DVD I seen every episode Recently someone told me about an episode of the Alfred Hitchcock Hour called The Jar which they thought wa an episode of the Twilight Zone I watched it tonight it the first and only episode of the show I seen I somewhat enjoyed it although it seemed a little darker than the Twilight Zone and le sci fi focused I not sure if I should try to watch more episode or not Maybe I just chose the wrong episode to start with How doe the show compare to the Twilight Zone overall Are there good episode that any Twilight Zone fan would enjoy                                                                                                                                                                                                                                                                                                                                                                                                                                                                                                                                                                                                                                                                                                                                                                                                                                                                                                                                                                                                                                                                                                                                                                                                                                                                                     \n",
       "1  SPOILERS AHEAD Just wanted to warn anyone before reading all this that there are spoiler in here for those who haven see this episode yet Now on with the show OK so let first talk about the number 14 The number 14 is mentioned a total of 3 time throughout this episode First when the driver say Mister that a 14 year old bus and business is lousy Not only that but before he say this he say What do you think I got parked out there a 707 What is 7 0 7 14 The second time 14 is mentioned the alien behind the counter say Nothin come in here for 14 hour The third mention of the number 14 is when the bus rider are checking out at the diner counter The alien behind the counter say that the first alien had 14 cup of coffee Damn that a lot of coffee OK so how many time is the number 14 mentioned 3 time How many arm did the first alien have 3 How many eye did the other alien have 3 Keep that in mind Now let talk about the title of this episode Will the real martian please stand up Well actually let hold off on that one for just a second Let talk about the officer How many were there 2 How many alien were there 2 Now let multiply 14 by 2 to get 28 Now let add 3 to that number 3 for how many arm eye the alien had and how many time 14 wa mentioned and what do you get 31 Now how many letter are in the title of this episode 31 Phew man I tired from all that math But wait there more How many time wa 14 mentioned 3 How many arm did the first alien have 3 How many eye did the second alien have 3 Add those together and you get 9 What time did the first alien say his meeting wa in Boston 9AM Okay okay I reaching with some of these but I sat there last night watching this episode and I couldn get all these damn number out of my head If you made it this far I commend you I doubt any of this mean anything but I found it interesting nonetheless Cheers   \n",
       "\n",
       "                                                         title_lems  \n",
       "0  Twilight Zone fan what your opinion on the Alfred Hitchcock Hour  \n",
       "1  Will the real martian please stand up is one giant number game    "
      ]
     },
     "execution_count": 31,
     "metadata": {},
     "output_type": "execute_result"
    }
   ],
   "source": [
    "zone.head(2)"
   ]
  },
  {
   "cell_type": "code",
   "execution_count": 32,
   "metadata": {},
   "outputs": [],
   "source": [
    "# Saving cleaned comics dataset to csv \n",
    "comics.to_csv('../data/cleaned_data/comics')"
   ]
  },
  {
   "cell_type": "code",
   "execution_count": 33,
   "metadata": {},
   "outputs": [],
   "source": [
    "# Saving cleaned zone dataset to csv\n",
    "zone.to_csv('../data/cleaned_data/zone')"
   ]
  },
  {
   "cell_type": "code",
   "execution_count": 34,
   "metadata": {},
   "outputs": [],
   "source": [
    "# Concatenating dataframes \n",
    "comics_zone = pd.concat([zone, comics])"
   ]
  },
  {
   "cell_type": "code",
   "execution_count": 35,
   "metadata": {},
   "outputs": [
    {
     "data": {
      "text/plain": [
       "comicbooks      1797\n",
       "TwilightZone    1235\n",
       "Name: subreddit, dtype: int64"
      ]
     },
     "execution_count": 35,
     "metadata": {},
     "output_type": "execute_result"
    }
   ],
   "source": [
    "comics_zone['subreddit'].value_counts()"
   ]
  },
  {
   "cell_type": "code",
   "execution_count": 36,
   "metadata": {},
   "outputs": [
    {
     "data": {
      "text/html": [
       "<div>\n",
       "<style scoped>\n",
       "    .dataframe tbody tr th:only-of-type {\n",
       "        vertical-align: middle;\n",
       "    }\n",
       "\n",
       "    .dataframe tbody tr th {\n",
       "        vertical-align: top;\n",
       "    }\n",
       "\n",
       "    .dataframe thead th {\n",
       "        text-align: right;\n",
       "    }\n",
       "</style>\n",
       "<table border=\"1\" class=\"dataframe\">\n",
       "  <thead>\n",
       "    <tr style=\"text-align: right;\">\n",
       "      <th></th>\n",
       "      <th>author</th>\n",
       "      <th>subreddit</th>\n",
       "      <th>lems</th>\n",
       "      <th>title_lems</th>\n",
       "    </tr>\n",
       "  </thead>\n",
       "  <tbody>\n",
       "    <tr>\n",
       "      <td>0</td>\n",
       "      <td>GAMESHARQ</td>\n",
       "      <td>1</td>\n",
       "      <td>I a big fan of the Twilight Zone I have the complete series on DVD I seen every episode Recently someone told me about an episode of the Alfred Hitchcock Hour called The Jar which they thought wa an episode of the Twilight Zone I watched it tonight it the first and only episode of the show I seen I somewhat enjoyed it although it seemed a little darker than the Twilight Zone and le sci fi focused I not sure if I should try to watch more episode or not Maybe I just chose the wrong episode to start with How doe the show compare to the Twilight Zone overall Are there good episode that any Twilight Zone fan would enjoy</td>\n",
       "      <td>Twilight Zone fan what your opinion on the Alfred Hitchcock Hour</td>\n",
       "    </tr>\n",
       "    <tr>\n",
       "      <td>1</td>\n",
       "      <td>Pockets_The_Paladin</td>\n",
       "      <td>1</td>\n",
       "      <td>SPOILERS AHEAD Just wanted to warn anyone before reading all this that there are spoiler in here for those who haven see this episode yet Now on with the show OK so let first talk about the number 14 The number 14 is mentioned a total of 3 time throughout this episode First when the driver say Mister that a 14 year old bus and business is lousy Not only that but before he say this he say What do you think I got parked out there a 707 What is 7 0 7 14 The second time 14 is mentioned the alien behind the counter say Nothin come in here for 14 hour The third mention of the number 14 is when the bus rider are checking out at the diner counter The alien behind the counter say that the first alien had 14 cup of coffee Damn that a lot of coffee OK so how many time is the number 14 mentioned 3 time How many arm did the first alien have 3 How many eye did the other alien have 3 Keep that in mind Now let talk about the title of this episode Will the real martian please stand up Well actually let hold off on that one for just a second Let talk about the officer How many were there 2 How many alien were there 2 Now let multiply 14 by 2 to get 28 Now let add 3 to that number 3 for how many arm eye the alien had and how many time 14 wa mentioned and what do you get 31 Now how many letter are in the title of this episode 31 Phew man I tired from all that math But wait there more How many time wa 14 mentioned 3 How many arm did the first alien have 3 How many eye did the second alien have 3 Add those together and you get 9 What time did the first alien say his meeting wa in Boston 9AM Okay okay I reaching with some of these but I sat there last night watching this episode and I couldn get all these damn number out of my head If you made it this far I commend you I doubt any of this mean anything but I found it interesting nonetheless Cheers</td>\n",
       "      <td>Will the real martian please stand up is one giant number game</td>\n",
       "    </tr>\n",
       "  </tbody>\n",
       "</table>\n",
       "</div>"
      ],
      "text/plain": [
       "                author  subreddit  \\\n",
       "0  GAMESHARQ            1           \n",
       "1  Pockets_The_Paladin  1           \n",
       "\n",
       "                                                                                                                                                                                                                                                                                                                                                                                                                                                                                                                                                                                                                                                                                                                                                                                                                                                                                                                                                                                                                                                                                                                                                                                                                                                                                                                                                                                                                                                                                                                                                                                                                                                                                                                                                                                                                                                                                                                               lems  \\\n",
       "0  I a big fan of the Twilight Zone I have the complete series on DVD I seen every episode Recently someone told me about an episode of the Alfred Hitchcock Hour called The Jar which they thought wa an episode of the Twilight Zone I watched it tonight it the first and only episode of the show I seen I somewhat enjoyed it although it seemed a little darker than the Twilight Zone and le sci fi focused I not sure if I should try to watch more episode or not Maybe I just chose the wrong episode to start with How doe the show compare to the Twilight Zone overall Are there good episode that any Twilight Zone fan would enjoy                                                                                                                                                                                                                                                                                                                                                                                                                                                                                                                                                                                                                                                                                                                                                                                                                                                                                                                                                                                                                                                                                                                                                                                                                                                                                     \n",
       "1  SPOILERS AHEAD Just wanted to warn anyone before reading all this that there are spoiler in here for those who haven see this episode yet Now on with the show OK so let first talk about the number 14 The number 14 is mentioned a total of 3 time throughout this episode First when the driver say Mister that a 14 year old bus and business is lousy Not only that but before he say this he say What do you think I got parked out there a 707 What is 7 0 7 14 The second time 14 is mentioned the alien behind the counter say Nothin come in here for 14 hour The third mention of the number 14 is when the bus rider are checking out at the diner counter The alien behind the counter say that the first alien had 14 cup of coffee Damn that a lot of coffee OK so how many time is the number 14 mentioned 3 time How many arm did the first alien have 3 How many eye did the other alien have 3 Keep that in mind Now let talk about the title of this episode Will the real martian please stand up Well actually let hold off on that one for just a second Let talk about the officer How many were there 2 How many alien were there 2 Now let multiply 14 by 2 to get 28 Now let add 3 to that number 3 for how many arm eye the alien had and how many time 14 wa mentioned and what do you get 31 Now how many letter are in the title of this episode 31 Phew man I tired from all that math But wait there more How many time wa 14 mentioned 3 How many arm did the first alien have 3 How many eye did the second alien have 3 Add those together and you get 9 What time did the first alien say his meeting wa in Boston 9AM Okay okay I reaching with some of these but I sat there last night watching this episode and I couldn get all these damn number out of my head If you made it this far I commend you I doubt any of this mean anything but I found it interesting nonetheless Cheers   \n",
       "\n",
       "                                                         title_lems  \n",
       "0  Twilight Zone fan what your opinion on the Alfred Hitchcock Hour  \n",
       "1  Will the real martian please stand up is one giant number game    "
      ]
     },
     "execution_count": 36,
     "metadata": {},
     "output_type": "execute_result"
    }
   ],
   "source": [
    "# Changing 'subreddit' values into binary 1 = Twilight Zone, 0 = 'scifi'\n",
    "comics_zone['subreddit'] = comics_zone['subreddit'].map({'comicbooks': 0, 'TwilightZone': 1})\n",
    "comics_zone.head(2)"
   ]
  },
  {
   "cell_type": "code",
   "execution_count": 37,
   "metadata": {},
   "outputs": [],
   "source": [
    "# Create a combined column for all of our text \n",
    "comics_zone['combined_text'] = comics_zone['lems'] + comics_zone['title_lems']"
   ]
  },
  {
   "cell_type": "code",
   "execution_count": 38,
   "metadata": {},
   "outputs": [
    {
     "data": {
      "text/html": [
       "<div>\n",
       "<style scoped>\n",
       "    .dataframe tbody tr th:only-of-type {\n",
       "        vertical-align: middle;\n",
       "    }\n",
       "\n",
       "    .dataframe tbody tr th {\n",
       "        vertical-align: top;\n",
       "    }\n",
       "\n",
       "    .dataframe thead th {\n",
       "        text-align: right;\n",
       "    }\n",
       "</style>\n",
       "<table border=\"1\" class=\"dataframe\">\n",
       "  <thead>\n",
       "    <tr style=\"text-align: right;\">\n",
       "      <th></th>\n",
       "      <th>author</th>\n",
       "      <th>subreddit</th>\n",
       "      <th>lems</th>\n",
       "      <th>title_lems</th>\n",
       "      <th>combined_text</th>\n",
       "    </tr>\n",
       "  </thead>\n",
       "  <tbody>\n",
       "    <tr>\n",
       "      <td>0</td>\n",
       "      <td>GAMESHARQ</td>\n",
       "      <td>1</td>\n",
       "      <td>I a big fan of the Twilight Zone I have the complete series on DVD I seen every episode Recently someone told me about an episode of the Alfred Hitchcock Hour called The Jar which they thought wa an episode of the Twilight Zone I watched it tonight it the first and only episode of the show I seen I somewhat enjoyed it although it seemed a little darker than the Twilight Zone and le sci fi focused I not sure if I should try to watch more episode or not Maybe I just chose the wrong episode to start with How doe the show compare to the Twilight Zone overall Are there good episode that any Twilight Zone fan would enjoy</td>\n",
       "      <td>Twilight Zone fan what your opinion on the Alfred Hitchcock Hour</td>\n",
       "      <td>I a big fan of the Twilight Zone I have the complete series on DVD I seen every episode Recently someone told me about an episode of the Alfred Hitchcock Hour called The Jar which they thought wa an episode of the Twilight Zone I watched it tonight it the first and only episode of the show I seen I somewhat enjoyed it although it seemed a little darker than the Twilight Zone and le sci fi focused I not sure if I should try to watch more episode or not Maybe I just chose the wrong episode to start with How doe the show compare to the Twilight Zone overall Are there good episode that any Twilight Zone fan would enjoyTwilight Zone fan what your opinion on the Alfred Hitchcock Hour</td>\n",
       "    </tr>\n",
       "    <tr>\n",
       "      <td>1</td>\n",
       "      <td>Pockets_The_Paladin</td>\n",
       "      <td>1</td>\n",
       "      <td>SPOILERS AHEAD Just wanted to warn anyone before reading all this that there are spoiler in here for those who haven see this episode yet Now on with the show OK so let first talk about the number 14 The number 14 is mentioned a total of 3 time throughout this episode First when the driver say Mister that a 14 year old bus and business is lousy Not only that but before he say this he say What do you think I got parked out there a 707 What is 7 0 7 14 The second time 14 is mentioned the alien behind the counter say Nothin come in here for 14 hour The third mention of the number 14 is when the bus rider are checking out at the diner counter The alien behind the counter say that the first alien had 14 cup of coffee Damn that a lot of coffee OK so how many time is the number 14 mentioned 3 time How many arm did the first alien have 3 How many eye did the other alien have 3 Keep that in mind Now let talk about the title of this episode Will the real martian please stand up Well actually let hold off on that one for just a second Let talk about the officer How many were there 2 How many alien were there 2 Now let multiply 14 by 2 to get 28 Now let add 3 to that number 3 for how many arm eye the alien had and how many time 14 wa mentioned and what do you get 31 Now how many letter are in the title of this episode 31 Phew man I tired from all that math But wait there more How many time wa 14 mentioned 3 How many arm did the first alien have 3 How many eye did the second alien have 3 Add those together and you get 9 What time did the first alien say his meeting wa in Boston 9AM Okay okay I reaching with some of these but I sat there last night watching this episode and I couldn get all these damn number out of my head If you made it this far I commend you I doubt any of this mean anything but I found it interesting nonetheless Cheers</td>\n",
       "      <td>Will the real martian please stand up is one giant number game</td>\n",
       "      <td>SPOILERS AHEAD Just wanted to warn anyone before reading all this that there are spoiler in here for those who haven see this episode yet Now on with the show OK so let first talk about the number 14 The number 14 is mentioned a total of 3 time throughout this episode First when the driver say Mister that a 14 year old bus and business is lousy Not only that but before he say this he say What do you think I got parked out there a 707 What is 7 0 7 14 The second time 14 is mentioned the alien behind the counter say Nothin come in here for 14 hour The third mention of the number 14 is when the bus rider are checking out at the diner counter The alien behind the counter say that the first alien had 14 cup of coffee Damn that a lot of coffee OK so how many time is the number 14 mentioned 3 time How many arm did the first alien have 3 How many eye did the other alien have 3 Keep that in mind Now let talk about the title of this episode Will the real martian please stand up Well actually let hold off on that one for just a second Let talk about the officer How many were there 2 How many alien were there 2 Now let multiply 14 by 2 to get 28 Now let add 3 to that number 3 for how many arm eye the alien had and how many time 14 wa mentioned and what do you get 31 Now how many letter are in the title of this episode 31 Phew man I tired from all that math But wait there more How many time wa 14 mentioned 3 How many arm did the first alien have 3 How many eye did the second alien have 3 Add those together and you get 9 What time did the first alien say his meeting wa in Boston 9AM Okay okay I reaching with some of these but I sat there last night watching this episode and I couldn get all these damn number out of my head If you made it this far I commend you I doubt any of this mean anything but I found it interesting nonetheless CheersWill the real martian please stand up is one giant number game</td>\n",
       "    </tr>\n",
       "  </tbody>\n",
       "</table>\n",
       "</div>"
      ],
      "text/plain": [
       "                author  subreddit  \\\n",
       "0  GAMESHARQ            1           \n",
       "1  Pockets_The_Paladin  1           \n",
       "\n",
       "                                                                                                                                                                                                                                                                                                                                                                                                                                                                                                                                                                                                                                                                                                                                                                                                                                                                                                                                                                                                                                                                                                                                                                                                                                                                                                                                                                                                                                                                                                                                                                                                                                                                                                                                                                                                                                                                                                                               lems  \\\n",
       "0  I a big fan of the Twilight Zone I have the complete series on DVD I seen every episode Recently someone told me about an episode of the Alfred Hitchcock Hour called The Jar which they thought wa an episode of the Twilight Zone I watched it tonight it the first and only episode of the show I seen I somewhat enjoyed it although it seemed a little darker than the Twilight Zone and le sci fi focused I not sure if I should try to watch more episode or not Maybe I just chose the wrong episode to start with How doe the show compare to the Twilight Zone overall Are there good episode that any Twilight Zone fan would enjoy                                                                                                                                                                                                                                                                                                                                                                                                                                                                                                                                                                                                                                                                                                                                                                                                                                                                                                                                                                                                                                                                                                                                                                                                                                                                                     \n",
       "1  SPOILERS AHEAD Just wanted to warn anyone before reading all this that there are spoiler in here for those who haven see this episode yet Now on with the show OK so let first talk about the number 14 The number 14 is mentioned a total of 3 time throughout this episode First when the driver say Mister that a 14 year old bus and business is lousy Not only that but before he say this he say What do you think I got parked out there a 707 What is 7 0 7 14 The second time 14 is mentioned the alien behind the counter say Nothin come in here for 14 hour The third mention of the number 14 is when the bus rider are checking out at the diner counter The alien behind the counter say that the first alien had 14 cup of coffee Damn that a lot of coffee OK so how many time is the number 14 mentioned 3 time How many arm did the first alien have 3 How many eye did the other alien have 3 Keep that in mind Now let talk about the title of this episode Will the real martian please stand up Well actually let hold off on that one for just a second Let talk about the officer How many were there 2 How many alien were there 2 Now let multiply 14 by 2 to get 28 Now let add 3 to that number 3 for how many arm eye the alien had and how many time 14 wa mentioned and what do you get 31 Now how many letter are in the title of this episode 31 Phew man I tired from all that math But wait there more How many time wa 14 mentioned 3 How many arm did the first alien have 3 How many eye did the second alien have 3 Add those together and you get 9 What time did the first alien say his meeting wa in Boston 9AM Okay okay I reaching with some of these but I sat there last night watching this episode and I couldn get all these damn number out of my head If you made it this far I commend you I doubt any of this mean anything but I found it interesting nonetheless Cheers   \n",
       "\n",
       "                                                         title_lems  \\\n",
       "0  Twilight Zone fan what your opinion on the Alfred Hitchcock Hour   \n",
       "1  Will the real martian please stand up is one giant number game     \n",
       "\n",
       "                                                                                                                                                                                                                                                                                                                                                                                                                                                                                                                                                                                                                                                                                                                                                                                                                                                                                                                                                                                                                                                                                                                                                                                                                                                                                                                                                                                                                                                                                                                                                                                                                                                                                                                                                                                                                                                                                                                                                                                    combined_text  \n",
       "0  I a big fan of the Twilight Zone I have the complete series on DVD I seen every episode Recently someone told me about an episode of the Alfred Hitchcock Hour called The Jar which they thought wa an episode of the Twilight Zone I watched it tonight it the first and only episode of the show I seen I somewhat enjoyed it although it seemed a little darker than the Twilight Zone and le sci fi focused I not sure if I should try to watch more episode or not Maybe I just chose the wrong episode to start with How doe the show compare to the Twilight Zone overall Are there good episode that any Twilight Zone fan would enjoyTwilight Zone fan what your opinion on the Alfred Hitchcock Hour                                                                                                                                                                                                                                                                                                                                                                                                                                                                                                                                                                                                                                                                                                                                                                                                                                                                                                                                                                                                                                                                                                                                                                                                                                                                                  \n",
       "1  SPOILERS AHEAD Just wanted to warn anyone before reading all this that there are spoiler in here for those who haven see this episode yet Now on with the show OK so let first talk about the number 14 The number 14 is mentioned a total of 3 time throughout this episode First when the driver say Mister that a 14 year old bus and business is lousy Not only that but before he say this he say What do you think I got parked out there a 707 What is 7 0 7 14 The second time 14 is mentioned the alien behind the counter say Nothin come in here for 14 hour The third mention of the number 14 is when the bus rider are checking out at the diner counter The alien behind the counter say that the first alien had 14 cup of coffee Damn that a lot of coffee OK so how many time is the number 14 mentioned 3 time How many arm did the first alien have 3 How many eye did the other alien have 3 Keep that in mind Now let talk about the title of this episode Will the real martian please stand up Well actually let hold off on that one for just a second Let talk about the officer How many were there 2 How many alien were there 2 Now let multiply 14 by 2 to get 28 Now let add 3 to that number 3 for how many arm eye the alien had and how many time 14 wa mentioned and what do you get 31 Now how many letter are in the title of this episode 31 Phew man I tired from all that math But wait there more How many time wa 14 mentioned 3 How many arm did the first alien have 3 How many eye did the second alien have 3 Add those together and you get 9 What time did the first alien say his meeting wa in Boston 9AM Okay okay I reaching with some of these but I sat there last night watching this episode and I couldn get all these damn number out of my head If you made it this far I commend you I doubt any of this mean anything but I found it interesting nonetheless CheersWill the real martian please stand up is one giant number game  "
      ]
     },
     "execution_count": 38,
     "metadata": {},
     "output_type": "execute_result"
    }
   ],
   "source": [
    "comics_zone.head(2)"
   ]
  },
  {
   "cell_type": "code",
   "execution_count": 39,
   "metadata": {},
   "outputs": [],
   "source": [
    "# Save cleaned and lemmatized data to csv\n",
    "comics_zone.to_csv('../data/cleaned_data/comics_zone')"
   ]
  }
 ],
 "metadata": {
  "kernelspec": {
   "display_name": "Python 3",
   "language": "python",
   "name": "python3"
  },
  "language_info": {
   "codemirror_mode": {
    "name": "ipython",
    "version": 3
   },
   "file_extension": ".py",
   "mimetype": "text/x-python",
   "name": "python",
   "nbconvert_exporter": "python",
   "pygments_lexer": "ipython3",
   "version": "3.7.4"
  },
  "toc": {
   "base_numbering": 1,
   "nav_menu": {},
   "number_sections": false,
   "sideBar": true,
   "skip_h1_title": false,
   "title_cell": "Table of Contents",
   "title_sidebar": "Contents",
   "toc_cell": false,
   "toc_position": {
    "height": "calc(100% - 180px)",
    "left": "10px",
    "top": "150px",
    "width": "250.43478393554688px"
   },
   "toc_section_display": true,
   "toc_window_display": false
  },
  "varInspector": {
   "cols": {
    "lenName": 16,
    "lenType": 16,
    "lenVar": 40
   },
   "kernels_config": {
    "python": {
     "delete_cmd_postfix": "",
     "delete_cmd_prefix": "del ",
     "library": "var_list.py",
     "varRefreshCmd": "print(var_dic_list())"
    },
    "r": {
     "delete_cmd_postfix": ") ",
     "delete_cmd_prefix": "rm(",
     "library": "var_list.r",
     "varRefreshCmd": "cat(var_dic_list()) "
    }
   },
   "types_to_exclude": [
    "module",
    "function",
    "builtin_function_or_method",
    "instance",
    "_Feature"
   ],
   "window_display": false
  }
 },
 "nbformat": 4,
 "nbformat_minor": 2
}
